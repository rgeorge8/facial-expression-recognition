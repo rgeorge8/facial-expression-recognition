{
 "cells": [
  {
   "cell_type": "markdown",
   "id": "8c295fc9",
   "metadata": {
    "papermill": {
     "duration": 0.003466,
     "end_time": "2024-08-16T14:51:02.307058",
     "exception": false,
     "start_time": "2024-08-16T14:51:02.303592",
     "status": "completed"
    },
    "tags": []
   },
   "source": [
    "## Import Modules"
   ]
  },
  {
   "cell_type": "code",
   "execution_count": 1,
   "id": "75430659",
   "metadata": {
    "execution": {
     "iopub.execute_input": "2024-08-16T14:51:02.315049Z",
     "iopub.status.busy": "2024-08-16T14:51:02.314640Z",
     "iopub.status.idle": "2024-08-16T14:51:14.649108Z",
     "shell.execute_reply": "2024-08-16T14:51:14.648217Z"
    },
    "papermill": {
     "duration": 12.341259,
     "end_time": "2024-08-16T14:51:14.651501",
     "exception": false,
     "start_time": "2024-08-16T14:51:02.310242",
     "status": "completed"
    },
    "tags": []
   },
   "outputs": [
    {
     "name": "stderr",
     "output_type": "stream",
     "text": [
      "2024-08-16 14:51:05.555197: E external/local_xla/xla/stream_executor/cuda/cuda_dnn.cc:9261] Unable to register cuDNN factory: Attempting to register factory for plugin cuDNN when one has already been registered\n",
      "2024-08-16 14:51:05.555333: E external/local_xla/xla/stream_executor/cuda/cuda_fft.cc:607] Unable to register cuFFT factory: Attempting to register factory for plugin cuFFT when one has already been registered\n",
      "2024-08-16 14:51:05.660286: E external/local_xla/xla/stream_executor/cuda/cuda_blas.cc:1515] Unable to register cuBLAS factory: Attempting to register factory for plugin cuBLAS when one has already been registered\n"
     ]
    }
   ],
   "source": [
    "import pandas as pd\n",
    "import numpy as np\n",
    "import os\n",
    "import matplotlib.pyplot as plt\n",
    "import seaborn as sns\n",
    "import warnings\n",
    "from tqdm.notebook import tqdm\n",
    "warnings.filterwarnings('ignore')\n",
    "%matplotlib inline\n",
    "\n",
    "import tensorflow as tf\n",
    "from keras.models import Sequential\n",
    "from keras.layers import Dense, Conv2D, Dropout, Flatten, MaxPooling2D"
   ]
  },
  {
   "cell_type": "markdown",
   "id": "0fa6e8fd",
   "metadata": {
    "papermill": {
     "duration": 0.002879,
     "end_time": "2024-08-16T14:51:14.657748",
     "exception": false,
     "start_time": "2024-08-16T14:51:14.654869",
     "status": "completed"
    },
    "tags": []
   },
   "source": [
    "## Loading the Dataset"
   ]
  },
  {
   "cell_type": "code",
   "execution_count": 2,
   "id": "3d436eaa",
   "metadata": {
    "execution": {
     "iopub.execute_input": "2024-08-16T14:51:14.665187Z",
     "iopub.status.busy": "2024-08-16T14:51:14.664656Z",
     "iopub.status.idle": "2024-08-16T14:51:14.669176Z",
     "shell.execute_reply": "2024-08-16T14:51:14.668234Z"
    },
    "papermill": {
     "duration": 0.010354,
     "end_time": "2024-08-16T14:51:14.671082",
     "exception": false,
     "start_time": "2024-08-16T14:51:14.660728",
     "status": "completed"
    },
    "tags": []
   },
   "outputs": [],
   "source": [
    "train_directory = '/kaggle/input/facial-expression-dataset/train/train/'\n",
    "test_directory = '/kaggle/input/facial-expression-dataset/test/test/'"
   ]
  },
  {
   "cell_type": "code",
   "execution_count": 3,
   "id": "ccf25307",
   "metadata": {
    "execution": {
     "iopub.execute_input": "2024-08-16T14:51:14.678287Z",
     "iopub.status.busy": "2024-08-16T14:51:14.678002Z",
     "iopub.status.idle": "2024-08-16T14:51:14.683655Z",
     "shell.execute_reply": "2024-08-16T14:51:14.682821Z"
    },
    "papermill": {
     "duration": 0.011346,
     "end_time": "2024-08-16T14:51:14.685542",
     "exception": false,
     "start_time": "2024-08-16T14:51:14.674196",
     "status": "completed"
    },
    "tags": []
   },
   "outputs": [],
   "source": [
    "def load_dataset(directory):\n",
    "    image_paths = []\n",
    "    labels = []\n",
    "    \n",
    "    for label in os.listdir(directory):\n",
    "        for filename in os.listdir(directory+label):\n",
    "            image_path = os.path.join(directory, label, filename)\n",
    "            image_paths.append(image_path)\n",
    "            labels.append(label)\n",
    "            \n",
    "        print(label, \"Completed\")\n",
    "    \n",
    "    return image_paths, labels\n",
    "#converts folder structure into a CSV"
   ]
  },
  {
   "cell_type": "code",
   "execution_count": 4,
   "id": "9d77fbf5",
   "metadata": {
    "execution": {
     "iopub.execute_input": "2024-08-16T14:51:14.692457Z",
     "iopub.status.busy": "2024-08-16T14:51:14.692172Z",
     "iopub.status.idle": "2024-08-16T14:51:15.824309Z",
     "shell.execute_reply": "2024-08-16T14:51:15.823299Z"
    },
    "papermill": {
     "duration": 1.137851,
     "end_time": "2024-08-16T14:51:15.826353",
     "exception": false,
     "start_time": "2024-08-16T14:51:14.688502",
     "status": "completed"
    },
    "tags": []
   },
   "outputs": [
    {
     "name": "stdout",
     "output_type": "stream",
     "text": [
      "surprise Completed\n",
      "fear Completed\n",
      "angry Completed\n",
      "neutral Completed\n",
      "sad Completed\n",
      "disgust Completed\n",
      "happy Completed\n"
     ]
    },
    {
     "data": {
      "text/html": [
       "<div>\n",
       "<style scoped>\n",
       "    .dataframe tbody tr th:only-of-type {\n",
       "        vertical-align: middle;\n",
       "    }\n",
       "\n",
       "    .dataframe tbody tr th {\n",
       "        vertical-align: top;\n",
       "    }\n",
       "\n",
       "    .dataframe thead th {\n",
       "        text-align: right;\n",
       "    }\n",
       "</style>\n",
       "<table border=\"1\" class=\"dataframe\">\n",
       "  <thead>\n",
       "    <tr style=\"text-align: right;\">\n",
       "      <th></th>\n",
       "      <th>image</th>\n",
       "      <th>label</th>\n",
       "    </tr>\n",
       "  </thead>\n",
       "  <tbody>\n",
       "    <tr>\n",
       "      <th>0</th>\n",
       "      <td>/kaggle/input/facial-expression-dataset/train/...</td>\n",
       "      <td>sad</td>\n",
       "    </tr>\n",
       "    <tr>\n",
       "      <th>1</th>\n",
       "      <td>/kaggle/input/facial-expression-dataset/train/...</td>\n",
       "      <td>sad</td>\n",
       "    </tr>\n",
       "    <tr>\n",
       "      <th>2</th>\n",
       "      <td>/kaggle/input/facial-expression-dataset/train/...</td>\n",
       "      <td>happy</td>\n",
       "    </tr>\n",
       "    <tr>\n",
       "      <th>3</th>\n",
       "      <td>/kaggle/input/facial-expression-dataset/train/...</td>\n",
       "      <td>disgust</td>\n",
       "    </tr>\n",
       "    <tr>\n",
       "      <th>4</th>\n",
       "      <td>/kaggle/input/facial-expression-dataset/train/...</td>\n",
       "      <td>happy</td>\n",
       "    </tr>\n",
       "  </tbody>\n",
       "</table>\n",
       "</div>"
      ],
      "text/plain": [
       "                                               image    label\n",
       "0  /kaggle/input/facial-expression-dataset/train/...      sad\n",
       "1  /kaggle/input/facial-expression-dataset/train/...      sad\n",
       "2  /kaggle/input/facial-expression-dataset/train/...    happy\n",
       "3  /kaggle/input/facial-expression-dataset/train/...  disgust\n",
       "4  /kaggle/input/facial-expression-dataset/train/...    happy"
      ]
     },
     "execution_count": 4,
     "metadata": {},
     "output_type": "execute_result"
    }
   ],
   "source": [
    "#convert into dataframe / initialize the dataframe\n",
    "train = pd.DataFrame() #This line initializes an empty Pandas DataFrame named train. A DataFrame is a two-dimensional, tabular data structure that is used to store and manipulate data in Python.\n",
    "train['image'], train['label'] = load_dataset(train_directory)\n",
    "\n",
    "#shuffle the dataset\n",
    "train = train.sample(frac=1).reset_index(drop=True)\n",
    "#The frac parameter specifies the fraction of rows to return. A value of 1 means that all rows will be returned, but in a random order (i.e., shuffled).\n",
    "#After shuffling, the indices of the rows will be out of order. reset_index resets the index of the DataFrame so that the indices are sequential again.\n",
    "#drop=True: Ensures that the old index is not added as a new column in the DataFrame\n",
    "train.head()\n",
    "#This line displays the first few rows of the DataFrame train. The .head() method by default shows the first 5 rows, allowing you to inspect the contents and verify that the data has been loaded and shuffled correctly."
   ]
  },
  {
   "cell_type": "code",
   "execution_count": 5,
   "id": "6e9c916e",
   "metadata": {
    "execution": {
     "iopub.execute_input": "2024-08-16T14:51:15.835030Z",
     "iopub.status.busy": "2024-08-16T14:51:15.834480Z",
     "iopub.status.idle": "2024-08-16T14:51:16.456811Z",
     "shell.execute_reply": "2024-08-16T14:51:16.455915Z"
    },
    "papermill": {
     "duration": 0.628846,
     "end_time": "2024-08-16T14:51:16.458847",
     "exception": false,
     "start_time": "2024-08-16T14:51:15.830001",
     "status": "completed"
    },
    "tags": []
   },
   "outputs": [
    {
     "name": "stdout",
     "output_type": "stream",
     "text": [
      "surprise Completed\n",
      "fear Completed\n",
      "angry Completed\n",
      "neutral Completed\n",
      "sad Completed\n",
      "disgust Completed\n",
      "happy Completed\n"
     ]
    },
    {
     "data": {
      "text/html": [
       "<div>\n",
       "<style scoped>\n",
       "    .dataframe tbody tr th:only-of-type {\n",
       "        vertical-align: middle;\n",
       "    }\n",
       "\n",
       "    .dataframe tbody tr th {\n",
       "        vertical-align: top;\n",
       "    }\n",
       "\n",
       "    .dataframe thead th {\n",
       "        text-align: right;\n",
       "    }\n",
       "</style>\n",
       "<table border=\"1\" class=\"dataframe\">\n",
       "  <thead>\n",
       "    <tr style=\"text-align: right;\">\n",
       "      <th></th>\n",
       "      <th>image</th>\n",
       "      <th>label</th>\n",
       "    </tr>\n",
       "  </thead>\n",
       "  <tbody>\n",
       "    <tr>\n",
       "      <th>0</th>\n",
       "      <td>/kaggle/input/facial-expression-dataset/test/t...</td>\n",
       "      <td>surprise</td>\n",
       "    </tr>\n",
       "    <tr>\n",
       "      <th>1</th>\n",
       "      <td>/kaggle/input/facial-expression-dataset/test/t...</td>\n",
       "      <td>surprise</td>\n",
       "    </tr>\n",
       "    <tr>\n",
       "      <th>2</th>\n",
       "      <td>/kaggle/input/facial-expression-dataset/test/t...</td>\n",
       "      <td>surprise</td>\n",
       "    </tr>\n",
       "    <tr>\n",
       "      <th>3</th>\n",
       "      <td>/kaggle/input/facial-expression-dataset/test/t...</td>\n",
       "      <td>surprise</td>\n",
       "    </tr>\n",
       "    <tr>\n",
       "      <th>4</th>\n",
       "      <td>/kaggle/input/facial-expression-dataset/test/t...</td>\n",
       "      <td>surprise</td>\n",
       "    </tr>\n",
       "  </tbody>\n",
       "</table>\n",
       "</div>"
      ],
      "text/plain": [
       "                                               image     label\n",
       "0  /kaggle/input/facial-expression-dataset/test/t...  surprise\n",
       "1  /kaggle/input/facial-expression-dataset/test/t...  surprise\n",
       "2  /kaggle/input/facial-expression-dataset/test/t...  surprise\n",
       "3  /kaggle/input/facial-expression-dataset/test/t...  surprise\n",
       "4  /kaggle/input/facial-expression-dataset/test/t...  surprise"
      ]
     },
     "execution_count": 5,
     "metadata": {},
     "output_type": "execute_result"
    }
   ],
   "source": [
    "## convert into dataframe\n",
    "test = pd.DataFrame()\n",
    "test['image'], test['label'] = load_dataset(test_directory)\n",
    "test.head()"
   ]
  },
  {
   "cell_type": "markdown",
   "id": "402c8db9",
   "metadata": {
    "papermill": {
     "duration": 0.004044,
     "end_time": "2024-08-16T14:51:16.467599",
     "exception": false,
     "start_time": "2024-08-16T14:51:16.463555",
     "status": "completed"
    },
    "tags": []
   },
   "source": [
    "## Data Analysis"
   ]
  },
  {
   "cell_type": "code",
   "execution_count": null,
   "id": "21c8e3e1",
   "metadata": {
    "papermill": {
     "duration": 0.003911,
     "end_time": "2024-08-16T14:51:16.475713",
     "exception": false,
     "start_time": "2024-08-16T14:51:16.471802",
     "status": "completed"
    },
    "tags": []
   },
   "outputs": [],
   "source": []
  }
 ],
 "metadata": {
  "kaggle": {
   "accelerator": "nvidiaTeslaT4",
   "dataSources": [
    {
     "datasetId": 1060020,
     "sourceId": 1782963,
     "sourceType": "datasetVersion"
    }
   ],
   "dockerImageVersionId": 30747,
   "isGpuEnabled": true,
   "isInternetEnabled": false,
   "language": "python",
   "sourceType": "notebook"
  },
  "kernelspec": {
   "display_name": "Python 3",
   "language": "python",
   "name": "python3"
  },
  "language_info": {
   "codemirror_mode": {
    "name": "ipython",
    "version": 3
   },
   "file_extension": ".py",
   "mimetype": "text/x-python",
   "name": "python",
   "nbconvert_exporter": "python",
   "pygments_lexer": "ipython3",
   "version": "3.10.13"
  },
  "papermill": {
   "default_parameters": {},
   "duration": 19.062987,
   "end_time": "2024-08-16T14:51:18.754136",
   "environment_variables": {},
   "exception": null,
   "input_path": "__notebook__.ipynb",
   "output_path": "__notebook__.ipynb",
   "parameters": {},
   "start_time": "2024-08-16T14:50:59.691149",
   "version": "2.5.0"
  }
 },
 "nbformat": 4,
 "nbformat_minor": 5
}
