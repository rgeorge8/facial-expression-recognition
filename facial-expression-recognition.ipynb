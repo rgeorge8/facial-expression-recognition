{
 "cells": [
  {
   "cell_type": "markdown",
   "id": "92a6797e",
   "metadata": {
    "papermill": {
     "duration": 0.0071,
     "end_time": "2024-08-16T21:43:41.491645",
     "exception": false,
     "start_time": "2024-08-16T21:43:41.484545",
     "status": "completed"
    },
    "tags": []
   },
   "source": [
    "## Import Modules"
   ]
  },
  {
   "cell_type": "code",
   "execution_count": 1,
   "id": "5473b2dc",
   "metadata": {
    "execution": {
     "iopub.execute_input": "2024-08-16T21:43:41.507456Z",
     "iopub.status.busy": "2024-08-16T21:43:41.507016Z",
     "iopub.status.idle": "2024-08-16T21:43:54.674263Z",
     "shell.execute_reply": "2024-08-16T21:43:54.673488Z"
    },
    "papermill": {
     "duration": 13.178218,
     "end_time": "2024-08-16T21:43:54.676565",
     "exception": false,
     "start_time": "2024-08-16T21:43:41.498347",
     "status": "completed"
    },
    "tags": []
   },
   "outputs": [
    {
     "name": "stderr",
     "output_type": "stream",
     "text": [
      "2024-08-16 21:43:45.103695: E external/local_xla/xla/stream_executor/cuda/cuda_dnn.cc:9261] Unable to register cuDNN factory: Attempting to register factory for plugin cuDNN when one has already been registered\n",
      "2024-08-16 21:43:45.103799: E external/local_xla/xla/stream_executor/cuda/cuda_fft.cc:607] Unable to register cuFFT factory: Attempting to register factory for plugin cuFFT when one has already been registered\n",
      "2024-08-16 21:43:45.228527: E external/local_xla/xla/stream_executor/cuda/cuda_blas.cc:1515] Unable to register cuBLAS factory: Attempting to register factory for plugin cuBLAS when one has already been registered\n"
     ]
    }
   ],
   "source": [
    "import pandas as pd\n",
    "import numpy as np\n",
    "import os\n",
    "import matplotlib.pyplot as plt\n",
    "import seaborn as sns\n",
    "import warnings\n",
    "import random\n",
    "from tqdm.notebook import tqdm\n",
    "warnings.filterwarnings('ignore')\n",
    "%matplotlib inline\n",
    "\n",
    "import tensorflow as tf\n",
    "from tensorflow.keras.utils import to_categorical\n",
    "from keras.preprocessing.image import load_img\n",
    "from keras.models import Sequential\n",
    "from keras.layers import Dense, Conv2D, Dropout, Flatten, MaxPooling2D"
   ]
  },
  {
   "cell_type": "markdown",
   "id": "dba7138d",
   "metadata": {
    "papermill": {
     "duration": 0.006563,
     "end_time": "2024-08-16T21:43:54.690195",
     "exception": false,
     "start_time": "2024-08-16T21:43:54.683632",
     "status": "completed"
    },
    "tags": []
   },
   "source": [
    "## Loading the Dataset"
   ]
  },
  {
   "cell_type": "code",
   "execution_count": 2,
   "id": "34843e42",
   "metadata": {
    "execution": {
     "iopub.execute_input": "2024-08-16T21:43:54.704819Z",
     "iopub.status.busy": "2024-08-16T21:43:54.704310Z",
     "iopub.status.idle": "2024-08-16T21:43:54.708519Z",
     "shell.execute_reply": "2024-08-16T21:43:54.707701Z"
    },
    "papermill": {
     "duration": 0.013613,
     "end_time": "2024-08-16T21:43:54.710470",
     "exception": false,
     "start_time": "2024-08-16T21:43:54.696857",
     "status": "completed"
    },
    "tags": []
   },
   "outputs": [],
   "source": [
    "train_directory = '/kaggle/input/facial-expression-dataset/train/train/'\n",
    "test_directory = '/kaggle/input/facial-expression-dataset/test/test/'"
   ]
  },
  {
   "cell_type": "code",
   "execution_count": 3,
   "id": "acf6c3ff",
   "metadata": {
    "execution": {
     "iopub.execute_input": "2024-08-16T21:43:54.724952Z",
     "iopub.status.busy": "2024-08-16T21:43:54.724710Z",
     "iopub.status.idle": "2024-08-16T21:43:54.731017Z",
     "shell.execute_reply": "2024-08-16T21:43:54.730191Z"
    },
    "papermill": {
     "duration": 0.015598,
     "end_time": "2024-08-16T21:43:54.732959",
     "exception": false,
     "start_time": "2024-08-16T21:43:54.717361",
     "status": "completed"
    },
    "tags": []
   },
   "outputs": [],
   "source": [
    "def load_dataset(directory):\n",
    "    image_paths = []\n",
    "    labels = []\n",
    "    \n",
    "    for label in os.listdir(directory):\n",
    "        for filename in os.listdir(directory+label):\n",
    "            image_path = os.path.join(directory, label, filename)\n",
    "            image_paths.append(image_path)\n",
    "            labels.append(label)\n",
    "            \n",
    "        print(label, \"Completed\")\n",
    "    \n",
    "    return image_paths, labels\n",
    "#converts folder structure into a CSV"
   ]
  },
  {
   "cell_type": "code",
   "execution_count": 4,
   "id": "a74d1460",
   "metadata": {
    "execution": {
     "iopub.execute_input": "2024-08-16T21:43:54.747150Z",
     "iopub.status.busy": "2024-08-16T21:43:54.746861Z",
     "iopub.status.idle": "2024-08-16T21:43:55.462966Z",
     "shell.execute_reply": "2024-08-16T21:43:55.461935Z"
    },
    "papermill": {
     "duration": 0.725988,
     "end_time": "2024-08-16T21:43:55.465469",
     "exception": false,
     "start_time": "2024-08-16T21:43:54.739481",
     "status": "completed"
    },
    "tags": []
   },
   "outputs": [
    {
     "name": "stdout",
     "output_type": "stream",
     "text": [
      "surprise Completed\n",
      "fear Completed\n",
      "angry Completed\n",
      "neutral Completed\n",
      "sad Completed\n",
      "disgust Completed\n",
      "happy Completed\n"
     ]
    },
    {
     "data": {
      "text/html": [
       "<div>\n",
       "<style scoped>\n",
       "    .dataframe tbody tr th:only-of-type {\n",
       "        vertical-align: middle;\n",
       "    }\n",
       "\n",
       "    .dataframe tbody tr th {\n",
       "        vertical-align: top;\n",
       "    }\n",
       "\n",
       "    .dataframe thead th {\n",
       "        text-align: right;\n",
       "    }\n",
       "</style>\n",
       "<table border=\"1\" class=\"dataframe\">\n",
       "  <thead>\n",
       "    <tr style=\"text-align: right;\">\n",
       "      <th></th>\n",
       "      <th>image</th>\n",
       "      <th>label</th>\n",
       "    </tr>\n",
       "  </thead>\n",
       "  <tbody>\n",
       "    <tr>\n",
       "      <th>0</th>\n",
       "      <td>/kaggle/input/facial-expression-dataset/train/...</td>\n",
       "      <td>fear</td>\n",
       "    </tr>\n",
       "    <tr>\n",
       "      <th>1</th>\n",
       "      <td>/kaggle/input/facial-expression-dataset/train/...</td>\n",
       "      <td>fear</td>\n",
       "    </tr>\n",
       "    <tr>\n",
       "      <th>2</th>\n",
       "      <td>/kaggle/input/facial-expression-dataset/train/...</td>\n",
       "      <td>happy</td>\n",
       "    </tr>\n",
       "    <tr>\n",
       "      <th>3</th>\n",
       "      <td>/kaggle/input/facial-expression-dataset/train/...</td>\n",
       "      <td>surprise</td>\n",
       "    </tr>\n",
       "    <tr>\n",
       "      <th>4</th>\n",
       "      <td>/kaggle/input/facial-expression-dataset/train/...</td>\n",
       "      <td>sad</td>\n",
       "    </tr>\n",
       "  </tbody>\n",
       "</table>\n",
       "</div>"
      ],
      "text/plain": [
       "                                               image     label\n",
       "0  /kaggle/input/facial-expression-dataset/train/...      fear\n",
       "1  /kaggle/input/facial-expression-dataset/train/...      fear\n",
       "2  /kaggle/input/facial-expression-dataset/train/...     happy\n",
       "3  /kaggle/input/facial-expression-dataset/train/...  surprise\n",
       "4  /kaggle/input/facial-expression-dataset/train/...       sad"
      ]
     },
     "execution_count": 4,
     "metadata": {},
     "output_type": "execute_result"
    }
   ],
   "source": [
    "#convert into dataframe / initialize the dataframe\n",
    "train = pd.DataFrame() #This line initializes an empty Pandas DataFrame named train. A DataFrame is a two-dimensional, tabular data structure that is used to store and manipulate data in Python.\n",
    "train['image'], train['label'] = load_dataset(train_directory)\n",
    "\n",
    "#shuffle the dataset\n",
    "train = train.sample(frac=1).reset_index(drop=True)\n",
    "#The frac parameter specifies the fraction of rows to return. A value of 1 means that all rows will be returned, but in a random order (i.e., shuffled).\n",
    "#After shuffling, the indices of the rows will be out of order. reset_index resets the index of the DataFrame so that the indices are sequential again.\n",
    "#drop=True: Ensures that the old index is not added as a new column in the DataFrame\n",
    "train.head()\n",
    "#This line displays the first few rows of the DataFrame train. The .head() method by default shows the first 5 rows, allowing you to inspect the contents and verify that the data has been loaded and shuffled correctly."
   ]
  },
  {
   "cell_type": "code",
   "execution_count": 5,
   "id": "bbd4f46f",
   "metadata": {
    "execution": {
     "iopub.execute_input": "2024-08-16T21:43:55.483544Z",
     "iopub.status.busy": "2024-08-16T21:43:55.483097Z",
     "iopub.status.idle": "2024-08-16T21:43:55.833319Z",
     "shell.execute_reply": "2024-08-16T21:43:55.832115Z"
    },
    "papermill": {
     "duration": 0.372487,
     "end_time": "2024-08-16T21:43:55.845871",
     "exception": false,
     "start_time": "2024-08-16T21:43:55.473384",
     "status": "completed"
    },
    "tags": []
   },
   "outputs": [
    {
     "name": "stdout",
     "output_type": "stream",
     "text": [
      "surprise Completed\n",
      "fear Completed\n",
      "angry Completed\n",
      "neutral Completed\n",
      "sad Completed\n",
      "disgust Completed\n",
      "happy Completed\n"
     ]
    },
    {
     "data": {
      "text/html": [
       "<div>\n",
       "<style scoped>\n",
       "    .dataframe tbody tr th:only-of-type {\n",
       "        vertical-align: middle;\n",
       "    }\n",
       "\n",
       "    .dataframe tbody tr th {\n",
       "        vertical-align: top;\n",
       "    }\n",
       "\n",
       "    .dataframe thead th {\n",
       "        text-align: right;\n",
       "    }\n",
       "</style>\n",
       "<table border=\"1\" class=\"dataframe\">\n",
       "  <thead>\n",
       "    <tr style=\"text-align: right;\">\n",
       "      <th></th>\n",
       "      <th>image</th>\n",
       "      <th>label</th>\n",
       "    </tr>\n",
       "  </thead>\n",
       "  <tbody>\n",
       "    <tr>\n",
       "      <th>0</th>\n",
       "      <td>/kaggle/input/facial-expression-dataset/test/t...</td>\n",
       "      <td>surprise</td>\n",
       "    </tr>\n",
       "    <tr>\n",
       "      <th>1</th>\n",
       "      <td>/kaggle/input/facial-expression-dataset/test/t...</td>\n",
       "      <td>surprise</td>\n",
       "    </tr>\n",
       "    <tr>\n",
       "      <th>2</th>\n",
       "      <td>/kaggle/input/facial-expression-dataset/test/t...</td>\n",
       "      <td>surprise</td>\n",
       "    </tr>\n",
       "    <tr>\n",
       "      <th>3</th>\n",
       "      <td>/kaggle/input/facial-expression-dataset/test/t...</td>\n",
       "      <td>surprise</td>\n",
       "    </tr>\n",
       "    <tr>\n",
       "      <th>4</th>\n",
       "      <td>/kaggle/input/facial-expression-dataset/test/t...</td>\n",
       "      <td>surprise</td>\n",
       "    </tr>\n",
       "  </tbody>\n",
       "</table>\n",
       "</div>"
      ],
      "text/plain": [
       "                                               image     label\n",
       "0  /kaggle/input/facial-expression-dataset/test/t...  surprise\n",
       "1  /kaggle/input/facial-expression-dataset/test/t...  surprise\n",
       "2  /kaggle/input/facial-expression-dataset/test/t...  surprise\n",
       "3  /kaggle/input/facial-expression-dataset/test/t...  surprise\n",
       "4  /kaggle/input/facial-expression-dataset/test/t...  surprise"
      ]
     },
     "execution_count": 5,
     "metadata": {},
     "output_type": "execute_result"
    }
   ],
   "source": [
    "## convert into dataframe\n",
    "test = pd.DataFrame()\n",
    "test['image'], test['label'] = load_dataset(test_directory)\n",
    "test.head()"
   ]
  },
  {
   "cell_type": "markdown",
   "id": "4b43dd5d",
   "metadata": {
    "papermill": {
     "duration": 0.007275,
     "end_time": "2024-08-16T21:43:55.861260",
     "exception": false,
     "start_time": "2024-08-16T21:43:55.853985",
     "status": "completed"
    },
    "tags": []
   },
   "source": [
    "## Data Analysis"
   ]
  },
  {
   "cell_type": "code",
   "execution_count": 6,
   "id": "9728f997",
   "metadata": {
    "execution": {
     "iopub.execute_input": "2024-08-16T21:43:55.877965Z",
     "iopub.status.busy": "2024-08-16T21:43:55.877668Z",
     "iopub.status.idle": "2024-08-16T21:43:56.074479Z",
     "shell.execute_reply": "2024-08-16T21:43:56.073605Z"
    },
    "papermill": {
     "duration": 0.207953,
     "end_time": "2024-08-16T21:43:56.076518",
     "exception": false,
     "start_time": "2024-08-16T21:43:55.868565",
     "status": "completed"
    },
    "tags": []
   },
   "outputs": [
    {
     "data": {
      "image/png": "[encoded data removed]",
      "text/plain": [
       "<Figure size 640x480 with 1 Axes>"
      ]
     },
     "metadata": {},
     "output_type": "display_data"
    }
   ],
   "source": [
    "from PIL import Image\n",
    "img = Image.open(train['image'][0])\n",
    "plt.imshow(img, cmap='gray');"
   ]
  },
  {
   "cell_type": "code",
   "execution_count": 7,
   "id": "87c5cc48",
   "metadata": {
    "execution": {
     "iopub.execute_input": "2024-08-16T21:43:56.093632Z",
     "iopub.status.busy": "2024-08-16T21:43:56.093354Z",
     "iopub.status.idle": "2024-08-16T21:43:58.091449Z",
     "shell.execute_reply": "2024-08-16T21:43:58.090601Z"
    },
    "papermill": {
     "duration": 2.011075,
     "end_time": "2024-08-16T21:43:58.095566",
     "exception": false,
     "start_time": "2024-08-16T21:43:56.084491",
     "status": "completed"
    },
    "tags": []
   },
   "outputs": [
    {
     "data": {
      "image/png": "[encoded data removed]",
      "text/plain": [
       "<Figure size 2000x2000 with 25 Axes>"
      ]
     },
     "metadata": {},
     "output_type": "display_data"
    }
   ],
   "source": [
    "#to display grid of images\n",
    "plt.figure(figsize=(20,20))\n",
    "files = train.iloc[0:25]\n",
    "\n",
    "for index, file, label in files.itertuples():\n",
    "    plt.subplot(5, 5, index+1)\n",
    "    img = load_img(file)\n",
    "    img = np.array(img)\n",
    "    plt.imshow(img)\n",
    "    plt.title(label)\n",
    "    plt.axis('off')"
   ]
  },
  {
   "cell_type": "markdown",
   "id": "28377dbc",
   "metadata": {
    "papermill": {
     "duration": 0.010255,
     "end_time": "2024-08-16T21:43:58.116414",
     "exception": false,
     "start_time": "2024-08-16T21:43:58.106159",
     "status": "completed"
    },
    "tags": []
   },
   "source": [
    "## Feature Extraction"
   ]
  },
  {
   "cell_type": "code",
   "execution_count": 8,
   "id": "a5aa609e",
   "metadata": {
    "execution": {
     "iopub.execute_input": "2024-08-16T21:43:58.138381Z",
     "iopub.status.busy": "2024-08-16T21:43:58.138117Z",
     "iopub.status.idle": "2024-08-16T21:43:58.143817Z",
     "shell.execute_reply": "2024-08-16T21:43:58.142972Z"
    },
    "papermill": {
     "duration": 0.018821,
     "end_time": "2024-08-16T21:43:58.145666",
     "exception": false,
     "start_time": "2024-08-16T21:43:58.126845",
     "status": "completed"
    },
    "tags": []
   },
   "outputs": [],
   "source": [
    "def extract_features(images):\n",
    "    features = []\n",
    "    for image in tqdm(images):\n",
    "        img = load_img(image, color_mode='grayscale')\n",
    "        img = np.array(img)\n",
    "        features.append(img)\n",
    "    features = np.array(features)\n",
    "    features = features.reshape(len(features), 48, 48, 1) #the 48 48 is for the size of the images as they are 48x48 pixels. The 1 is because it is greyscale, for RGB it'd be 3.\n",
    "    return features\n",
    "#Pixel features of the images are extracted\n",
    "#Images are converted into arrays and reshaped to the proper format\n",
    "#tqdm creates a loading bar to help track the conversion process of the images"
   ]
  },
  {
   "cell_type": "code",
   "execution_count": 9,
   "id": "f94a531a",
   "metadata": {
    "execution": {
     "iopub.execute_input": "2024-08-16T21:43:58.167545Z",
     "iopub.status.busy": "2024-08-16T21:43:58.167284Z",
     "iopub.status.idle": "2024-08-16T21:45:30.833737Z",
     "shell.execute_reply": "2024-08-16T21:45:30.832860Z"
    },
    "papermill": {
     "duration": 92.680145,
     "end_time": "2024-08-16T21:45:30.836184",
     "exception": false,
     "start_time": "2024-08-16T21:43:58.156039",
     "status": "completed"
    },
    "tags": []
   },
   "outputs": [
    {
     "data": {
      "application/vnd.jupyter.widget-view+json": {
       "model_id": "ff152957c27b4346bb889fe275956c5f",
       "version_major": 2,
       "version_minor": 0
      },
      "text/plain": [
       "  0%|          | 0/28709 [00:00<?, ?it/s]"
      ]
     },
     "metadata": {},
     "output_type": "display_data"
    }
   ],
   "source": [
    "train_features = extract_features(train['image'])"
   ]
  },
  {
   "cell_type": "code",
   "execution_count": 10,
   "id": "d220232b",
   "metadata": {
    "execution": {
     "iopub.execute_input": "2024-08-16T21:45:30.859602Z",
     "iopub.status.busy": "2024-08-16T21:45:30.859265Z",
     "iopub.status.idle": "2024-08-16T21:45:50.550299Z",
     "shell.execute_reply": "2024-08-16T21:45:50.549572Z"
    },
    "papermill": {
     "duration": 19.705033,
     "end_time": "2024-08-16T21:45:50.552293",
     "exception": false,
     "start_time": "2024-08-16T21:45:30.847260",
     "status": "completed"
    },
    "tags": []
   },
   "outputs": [
    {
     "data": {
      "application/vnd.jupyter.widget-view+json": {
       "model_id": "fce9f2f61eb2437ca798549944678f7e",
       "version_major": 2,
       "version_minor": 0
      },
      "text/plain": [
       "  0%|          | 0/7178 [00:00<?, ?it/s]"
      ]
     },
     "metadata": {},
     "output_type": "display_data"
    }
   ],
   "source": [
    "test_features = extract_features(test['image'])"
   ]
  },
  {
   "cell_type": "code",
   "execution_count": 11,
   "id": "c4f0b4ec",
   "metadata": {
    "execution": {
     "iopub.execute_input": "2024-08-16T21:45:50.575637Z",
     "iopub.status.busy": "2024-08-16T21:45:50.575060Z",
     "iopub.status.idle": "2024-08-16T21:45:50.777559Z",
     "shell.execute_reply": "2024-08-16T21:45:50.776513Z"
    },
    "papermill": {
     "duration": 0.216402,
     "end_time": "2024-08-16T21:45:50.779987",
     "exception": false,
     "start_time": "2024-08-16T21:45:50.563585",
     "status": "completed"
    },
    "tags": []
   },
   "outputs": [],
   "source": [
    "##normalise the image, pixel value in between 0 and 1\n",
    "x_train = train_features/255.0\n",
    "x_test = test_features/255.0\n"
   ]
  },
  {
   "cell_type": "code",
   "execution_count": 12,
   "id": "e3e0d433",
   "metadata": {
    "execution": {
     "iopub.execute_input": "2024-08-16T21:45:50.802810Z",
     "iopub.status.busy": "2024-08-16T21:45:50.802497Z",
     "iopub.status.idle": "2024-08-16T21:45:50.915287Z",
     "shell.execute_reply": "2024-08-16T21:45:50.914195Z"
    },
    "papermill": {
     "duration": 0.126474,
     "end_time": "2024-08-16T21:45:50.917520",
     "exception": false,
     "start_time": "2024-08-16T21:45:50.791046",
     "status": "completed"
    },
    "tags": []
   },
   "outputs": [],
   "source": [
    "## convert label to integer (before we see the label is a string e.g. suprised, we want an integer instead)\n",
    "from sklearn.preprocessing import LabelEncoder\n",
    "le = LabelEncoder()\n",
    "le.fit(train['label'])\n",
    "y_train = le.transform(train['label']) #transform converts string into integer\n",
    "y_test = le.transform(test['label'])"
   ]
  },
  {
   "cell_type": "code",
   "execution_count": 13,
   "id": "17c499e0",
   "metadata": {
    "execution": {
     "iopub.execute_input": "2024-08-16T21:45:50.940251Z",
     "iopub.status.busy": "2024-08-16T21:45:50.939774Z",
     "iopub.status.idle": "2024-08-16T21:45:50.944718Z",
     "shell.execute_reply": "2024-08-16T21:45:50.944011Z"
    },
    "papermill": {
     "duration": 0.01808,
     "end_time": "2024-08-16T21:45:50.946491",
     "exception": false,
     "start_time": "2024-08-16T21:45:50.928411",
     "status": "completed"
    },
    "tags": []
   },
   "outputs": [],
   "source": [
    "y_train = to_categorical(y_train, num_classes=7)\n",
    "y_test = to_categorical(y_test, num_classes=7)\n",
    "#one hot encoding the data - a method of representing characters or words by a vector where only one element is set to one and all others are zero, based on their position in the vocabulary"
   ]
  },
  {
   "cell_type": "code",
   "execution_count": 14,
   "id": "e18f1dd4",
   "metadata": {
    "execution": {
     "iopub.execute_input": "2024-08-16T21:45:50.968479Z",
     "iopub.status.busy": "2024-08-16T21:45:50.968220Z",
     "iopub.status.idle": "2024-08-16T21:45:50.975223Z",
     "shell.execute_reply": "2024-08-16T21:45:50.974340Z"
    },
    "papermill": {
     "duration": 0.020145,
     "end_time": "2024-08-16T21:45:50.977136",
     "exception": false,
     "start_time": "2024-08-16T21:45:50.956991",
     "status": "completed"
    },
    "tags": []
   },
   "outputs": [
    {
     "data": {
      "text/plain": [
       "array([0., 0., 1., 0., 0., 0., 0.])"
      ]
     },
     "execution_count": 14,
     "metadata": {},
     "output_type": "execute_result"
    }
   ],
   "source": [
    "y_train[0]"
   ]
  },
  {
   "cell_type": "code",
   "execution_count": 15,
   "id": "f397981a",
   "metadata": {
    "execution": {
     "iopub.execute_input": "2024-08-16T21:45:50.999415Z",
     "iopub.status.busy": "2024-08-16T21:45:50.999150Z",
     "iopub.status.idle": "2024-08-16T21:45:51.002996Z",
     "shell.execute_reply": "2024-08-16T21:45:51.002202Z"
    },
    "papermill": {
     "duration": 0.017069,
     "end_time": "2024-08-16T21:45:51.004928",
     "exception": false,
     "start_time": "2024-08-16T21:45:50.987859",
     "status": "completed"
    },
    "tags": []
   },
   "outputs": [],
   "source": [
    "##config\n",
    "input_shape = (48, 48, 1) #converts the input image into 48 x 48 resolution in grayscale\n",
    "output_class = 7 #number of labels"
   ]
  },
  {
   "cell_type": "markdown",
   "id": "5cb2b77b",
   "metadata": {
    "papermill": {
     "duration": 0.011017,
     "end_time": "2024-08-16T21:45:51.026786",
     "exception": false,
     "start_time": "2024-08-16T21:45:51.015769",
     "status": "completed"
    },
    "tags": []
   },
   "source": [
    "## Model Creation"
   ]
  },
  {
   "cell_type": "code",
   "execution_count": 16,
   "id": "d71a2b15",
   "metadata": {
    "execution": {
     "iopub.execute_input": "2024-08-16T21:45:51.049191Z",
     "iopub.status.busy": "2024-08-16T21:45:51.048912Z",
     "iopub.status.idle": "2024-08-16T21:45:52.036383Z",
     "shell.execute_reply": "2024-08-16T21:45:52.035534Z"
    },
    "papermill": {
     "duration": 1.001228,
     "end_time": "2024-08-16T21:45:52.038764",
     "exception": false,
     "start_time": "2024-08-16T21:45:51.037536",
     "status": "completed"
    },
    "tags": []
   },
   "outputs": [],
   "source": [
    "model = Sequential()\n",
    "#convolutional layers\n",
    "model.add(Conv2D(128, kernel_size = (3,3), activation='relu', input_shape=input_shape))\n",
    "model.add(MaxPooling2D(pool_size=(2,2)))\n",
    "model.add(Dropout(0.4))\n",
    "\n",
    "model.add(Conv2D(256, kernel_size = (3,3), activation='relu'))\n",
    "model.add(MaxPooling2D(pool_size=(2,2)))\n",
    "model.add(Dropout(0.4))\n",
    "\n",
    "model.add(Conv2D(512, kernel_size = (3,3), activation='relu'))\n",
    "model.add(MaxPooling2D(pool_size=(2,2)))\n",
    "model.add(Dropout(0.4))\n",
    "\n",
    "model.add(Conv2D(512, kernel_size = (3,3), activation='relu'))\n",
    "model.add(MaxPooling2D(pool_size=(2,2)))\n",
    "model.add(Dropout(0.4))\n",
    "\n",
    "model.add(Flatten())\n",
    "#fully connected layer\n",
    "model.add(Dense(512, activation='relu'))\n",
    "model.add(Dropout(0.4))\n",
    "model.add(Dense(256, activation='relu'))\n",
    "model.add(Dropout(0.3))\n",
    "# output layer\n",
    "model.add(Dense(output_class, activation='softmax'))\n",
    "\n",
    "model.compile(optimizer='adam', loss='categorical_crossentropy', metrics=['accuracy'])"
   ]
  },
  {
   "cell_type": "code",
   "execution_count": 17,
   "id": "61e9308b",
   "metadata": {
    "execution": {
     "iopub.execute_input": "2024-08-16T21:45:52.062658Z",
     "iopub.status.busy": "2024-08-16T21:45:52.062338Z",
     "iopub.status.idle": "2024-08-16T22:01:10.324973Z",
     "shell.execute_reply": "2024-08-16T22:01:10.324125Z"
    },
    "papermill": {
     "duration": 918.277152,
     "end_time": "2024-08-16T22:01:10.327114",
     "exception": false,
     "start_time": "2024-08-16T21:45:52.049962",
     "status": "completed"
    },
    "tags": []
   },
   "outputs": [
    {
     "name": "stdout",
     "output_type": "stream",
     "text": [
      "Epoch 1/100\n",
      "\u001b[1m  3/225\u001b[0m \u001b[37m━━━━━━━━━━━━━━━━━━━━\u001b[0m \u001b[1m12s\u001b[0m 55ms/step - accuracy: 0.1797 - loss: 1.9278"
     ]
    },
    {
     "name": "stderr",
     "output_type": "stream",
     "text": [
      "WARNING: All log messages before absl::InitializeLog() is called are written to STDERR\n",
      "I0000 00:00:1723844772.501787      76 device_compiler.h:186] Compiled cluster using XLA!  This line is logged at most once for the lifetime of the process.\n",
      "W0000 00:00:1723844772.522674      76 graph_launch.cc:671] Fallback to op-by-op mode because memset node breaks graph update\n"
     ]
    },
    {
     "name": "stdout",
     "output_type": "stream",
     "text": [
      "\u001b[1m225/225\u001b[0m \u001b[32m━━━━━━━━━━━━━━━━━━━━\u001b[0m\u001b[37m\u001b[0m \u001b[1m0s\u001b[0m 87ms/step - accuracy: 0.2356 - loss: 1.8340"
     ]
    },
    {
     "name": "stderr",
     "output_type": "stream",
     "text": [
      "W0000 00:00:1723844793.037390      76 graph_launch.cc:671] Fallback to op-by-op mode because memset node breaks graph update\n"
     ]
    },
    {
     "name": "stdout",
     "output_type": "stream",
     "text": [
      "\u001b[1m225/225\u001b[0m \u001b[32m━━━━━━━━━━━━━━━━━━━━\u001b[0m\u001b[37m\u001b[0m \u001b[1m42s\u001b[0m 99ms/step - accuracy: 0.2357 - loss: 1.8339 - val_accuracy: 0.2471 - val_loss: 1.8120\n",
      "Epoch 2/100\n",
      "\u001b[1m225/225\u001b[0m \u001b[32m━━━━━━━━━━━━━━━━━━━━\u001b[0m\u001b[37m\u001b[0m \u001b[1m8s\u001b[0m 38ms/step - accuracy: 0.2541 - loss: 1.8077 - val_accuracy: 0.2470 - val_loss: 1.7972\n",
      "Epoch 3/100\n",
      "\u001b[1m225/225\u001b[0m \u001b[32m━━━━━━━━━━━━━━━━━━━━\u001b[0m\u001b[37m\u001b[0m \u001b[1m9s\u001b[0m 38ms/step - accuracy: 0.2610 - loss: 1.7643 - val_accuracy: 0.3359 - val_loss: 1.6423\n",
      "Epoch 4/100\n",
      "\u001b[1m225/225\u001b[0m \u001b[32m━━━━━━━━━━━━━━━━━━━━\u001b[0m\u001b[37m\u001b[0m \u001b[1m9s\u001b[0m 38ms/step - accuracy: 0.3429 - loss: 1.6431 - val_accuracy: 0.4200 - val_loss: 1.4832\n",
      "Epoch 5/100\n",
      "\u001b[1m225/225\u001b[0m \u001b[32m━━━━━━━━━━━━━━━━━━━━\u001b[0m\u001b[37m\u001b[0m \u001b[1m9s\u001b[0m 38ms/step - accuracy: 0.3997 - loss: 1.5368 - val_accuracy: 0.4574 - val_loss: 1.4017\n",
      "Epoch 6/100\n",
      "\u001b[1m225/225\u001b[0m \u001b[32m━━━━━━━━━━━━━━━━━━━━\u001b[0m\u001b[37m\u001b[0m \u001b[1m9s\u001b[0m 39ms/step - accuracy: 0.4368 - loss: 1.4594 - val_accuracy: 0.4653 - val_loss: 1.3505\n",
      "Epoch 7/100\n",
      "\u001b[1m225/225\u001b[0m \u001b[32m━━━━━━━━━━━━━━━━━━━━\u001b[0m\u001b[37m\u001b[0m \u001b[1m9s\u001b[0m 39ms/step - accuracy: 0.4503 - loss: 1.4199 - val_accuracy: 0.4921 - val_loss: 1.3053\n",
      "Epoch 8/100\n",
      "\u001b[1m225/225\u001b[0m \u001b[32m━━━━━━━━━━━━━━━━━━━━\u001b[0m\u001b[37m\u001b[0m \u001b[1m9s\u001b[0m 39ms/step - accuracy: 0.4713 - loss: 1.3773 - val_accuracy: 0.5117 - val_loss: 1.2791\n",
      "Epoch 9/100\n",
      "\u001b[1m225/225\u001b[0m \u001b[32m━━━━━━━━━━━━━━━━━━━━\u001b[0m\u001b[37m\u001b[0m \u001b[1m9s\u001b[0m 40ms/step - accuracy: 0.4917 - loss: 1.3429 - val_accuracy: 0.5134 - val_loss: 1.2712\n",
      "Epoch 10/100\n",
      "\u001b[1m225/225\u001b[0m \u001b[32m━━━━━━━━━━━━━━━━━━━━\u001b[0m\u001b[37m\u001b[0m \u001b[1m9s\u001b[0m 39ms/step - accuracy: 0.4921 - loss: 1.3321 - val_accuracy: 0.5333 - val_loss: 1.2221\n",
      "Epoch 11/100\n",
      "\u001b[1m225/225\u001b[0m \u001b[32m━━━━━━━━━━━━━━━━━━━━\u001b[0m\u001b[37m\u001b[0m \u001b[1m9s\u001b[0m 39ms/step - accuracy: 0.5008 - loss: 1.3123 - val_accuracy: 0.5366 - val_loss: 1.2058\n",
      "Epoch 12/100\n",
      "\u001b[1m225/225\u001b[0m \u001b[32m━━━━━━━━━━━━━━━━━━━━\u001b[0m\u001b[37m\u001b[0m \u001b[1m9s\u001b[0m 39ms/step - accuracy: 0.5056 - loss: 1.2912 - val_accuracy: 0.5422 - val_loss: 1.1961\n",
      "Epoch 13/100\n",
      "\u001b[1m225/225\u001b[0m \u001b[32m━━━━━━━━━━━━━━━━━━━━\u001b[0m\u001b[37m\u001b[0m \u001b[1m9s\u001b[0m 39ms/step - accuracy: 0.5131 - loss: 1.2784 - val_accuracy: 0.5465 - val_loss: 1.1765\n",
      "Epoch 14/100\n",
      "\u001b[1m225/225\u001b[0m \u001b[32m━━━━━━━━━━━━━━━━━━━━\u001b[0m\u001b[37m\u001b[0m \u001b[1m10s\u001b[0m 39ms/step - accuracy: 0.5152 - loss: 1.2683 - val_accuracy: 0.5510 - val_loss: 1.1673\n",
      "Epoch 15/100\n",
      "\u001b[1m225/225\u001b[0m \u001b[32m━━━━━━━━━━━━━━━━━━━━\u001b[0m\u001b[37m\u001b[0m \u001b[1m9s\u001b[0m 39ms/step - accuracy: 0.5225 - loss: 1.2545 - val_accuracy: 0.5614 - val_loss: 1.1496\n",
      "Epoch 16/100\n",
      "\u001b[1m225/225\u001b[0m \u001b[32m━━━━━━━━━━━━━━━━━━━━\u001b[0m\u001b[37m\u001b[0m \u001b[1m9s\u001b[0m 39ms/step - accuracy: 0.5386 - loss: 1.2129 - val_accuracy: 0.5549 - val_loss: 1.1537\n",
      "Epoch 17/100\n",
      "\u001b[1m225/225\u001b[0m \u001b[32m━━━━━━━━━━━━━━━━━━━━\u001b[0m\u001b[37m\u001b[0m \u001b[1m9s\u001b[0m 39ms/step - accuracy: 0.5331 - loss: 1.2321 - val_accuracy: 0.5645 - val_loss: 1.1278\n",
      "Epoch 18/100\n",
      "\u001b[1m225/225\u001b[0m \u001b[32m━━━━━━━━━━━━━━━━━━━━\u001b[0m\u001b[37m\u001b[0m \u001b[1m9s\u001b[0m 39ms/step - accuracy: 0.5491 - loss: 1.2056 - val_accuracy: 0.5713 - val_loss: 1.1255\n",
      "Epoch 19/100\n",
      "\u001b[1m225/225\u001b[0m \u001b[32m━━━━━━━━━━━━━━━━━━━━\u001b[0m\u001b[37m\u001b[0m \u001b[1m9s\u001b[0m 39ms/step - accuracy: 0.5486 - loss: 1.1852 - val_accuracy: 0.5724 - val_loss: 1.1123\n",
      "Epoch 20/100\n",
      "\u001b[1m225/225\u001b[0m \u001b[32m━━━━━━━━━━━━━━━━━━━━\u001b[0m\u001b[37m\u001b[0m \u001b[1m9s\u001b[0m 39ms/step - accuracy: 0.5458 - loss: 1.1922 - val_accuracy: 0.5653 - val_loss: 1.1426\n",
      "Epoch 21/100\n",
      "\u001b[1m225/225\u001b[0m \u001b[32m━━━━━━━━━━━━━━━━━━━━\u001b[0m\u001b[37m\u001b[0m \u001b[1m9s\u001b[0m 39ms/step - accuracy: 0.5593 - loss: 1.1689 - val_accuracy: 0.5694 - val_loss: 1.1047\n",
      "Epoch 22/100\n",
      "\u001b[1m225/225\u001b[0m \u001b[32m━━━━━━━━━━━━━━━━━━━━\u001b[0m\u001b[37m\u001b[0m \u001b[1m10s\u001b[0m 39ms/step - accuracy: 0.5606 - loss: 1.1607 - val_accuracy: 0.5809 - val_loss: 1.1024\n",
      "Epoch 23/100\n",
      "\u001b[1m225/225\u001b[0m \u001b[32m━━━━━━━━━━━━━━━━━━━━\u001b[0m\u001b[37m\u001b[0m \u001b[1m9s\u001b[0m 39ms/step - accuracy: 0.5666 - loss: 1.1486 - val_accuracy: 0.5754 - val_loss: 1.1013\n",
      "Epoch 24/100\n",
      "\u001b[1m225/225\u001b[0m \u001b[32m━━━━━━━━━━━━━━━━━━━━\u001b[0m\u001b[37m\u001b[0m \u001b[1m9s\u001b[0m 39ms/step - accuracy: 0.5725 - loss: 1.1477 - val_accuracy: 0.5857 - val_loss: 1.0927\n",
      "Epoch 25/100\n",
      "\u001b[1m225/225\u001b[0m \u001b[32m━━━━━━━━━━━━━━━━━━━━\u001b[0m\u001b[37m\u001b[0m \u001b[1m9s\u001b[0m 39ms/step - accuracy: 0.5671 - loss: 1.1406 - val_accuracy: 0.5839 - val_loss: 1.0946\n",
      "Epoch 26/100\n",
      "\u001b[1m225/225\u001b[0m \u001b[32m━━━━━━━━━━━━━━━━━━━━\u001b[0m\u001b[37m\u001b[0m \u001b[1m9s\u001b[0m 39ms/step - accuracy: 0.5696 - loss: 1.1295 - val_accuracy: 0.5832 - val_loss: 1.0869\n",
      "Epoch 27/100\n",
      "\u001b[1m225/225\u001b[0m \u001b[32m━━━━━━━━━━━━━━━━━━━━\u001b[0m\u001b[37m\u001b[0m \u001b[1m9s\u001b[0m 39ms/step - accuracy: 0.5747 - loss: 1.1295 - val_accuracy: 0.5892 - val_loss: 1.0759\n",
      "Epoch 28/100\n",
      "\u001b[1m225/225\u001b[0m \u001b[32m━━━━━━━━━━━━━━━━━━━━\u001b[0m\u001b[37m\u001b[0m \u001b[1m9s\u001b[0m 39ms/step - accuracy: 0.5771 - loss: 1.1228 - val_accuracy: 0.5843 - val_loss: 1.0773\n",
      "Epoch 29/100\n",
      "\u001b[1m225/225\u001b[0m \u001b[32m━━━━━━━━━━━━━━━━━━━━\u001b[0m\u001b[37m\u001b[0m \u001b[1m9s\u001b[0m 39ms/step - accuracy: 0.5748 - loss: 1.1256 - val_accuracy: 0.5925 - val_loss: 1.0786\n",
      "Epoch 30/100\n",
      "\u001b[1m225/225\u001b[0m \u001b[32m━━━━━━━━━━━━━━━━━━━━\u001b[0m\u001b[37m\u001b[0m \u001b[1m9s\u001b[0m 39ms/step - accuracy: 0.5863 - loss: 1.0962 - val_accuracy: 0.5875 - val_loss: 1.0731\n",
      "Epoch 31/100\n",
      "\u001b[1m225/225\u001b[0m \u001b[32m━━━━━━━━━━━━━━━━━━━━\u001b[0m\u001b[37m\u001b[0m \u001b[1m9s\u001b[0m 39ms/step - accuracy: 0.5797 - loss: 1.1104 - val_accuracy: 0.5943 - val_loss: 1.0616\n",
      "Epoch 32/100\n",
      "\u001b[1m225/225\u001b[0m \u001b[32m━━━━━━━━━━━━━━━━━━━━\u001b[0m\u001b[37m\u001b[0m \u001b[1m9s\u001b[0m 39ms/step - accuracy: 0.5909 - loss: 1.0868 - val_accuracy: 0.5913 - val_loss: 1.0659\n",
      "Epoch 33/100\n",
      "\u001b[1m225/225\u001b[0m \u001b[32m━━━━━━━━━━━━━━━━━━━━\u001b[0m\u001b[37m\u001b[0m \u001b[1m9s\u001b[0m 39ms/step - accuracy: 0.5970 - loss: 1.0811 - val_accuracy: 0.5875 - val_loss: 1.0792\n",
      "Epoch 34/100\n",
      "\u001b[1m225/225\u001b[0m \u001b[32m━━━━━━━━━━━━━━━━━━━━\u001b[0m\u001b[37m\u001b[0m \u001b[1m9s\u001b[0m 39ms/step - accuracy: 0.5979 - loss: 1.0757 - val_accuracy: 0.5924 - val_loss: 1.0735\n",
      "Epoch 35/100\n",
      "\u001b[1m225/225\u001b[0m \u001b[32m━━━━━━━━━━━━━━━━━━━━\u001b[0m\u001b[37m\u001b[0m \u001b[1m9s\u001b[0m 39ms/step - accuracy: 0.5914 - loss: 1.0883 - val_accuracy: 0.5896 - val_loss: 1.0715\n",
      "Epoch 36/100\n",
      "\u001b[1m225/225\u001b[0m \u001b[32m━━━━━━━━━━━━━━━━━━━━\u001b[0m\u001b[37m\u001b[0m \u001b[1m9s\u001b[0m 39ms/step - accuracy: 0.5928 - loss: 1.0727 - val_accuracy: 0.5985 - val_loss: 1.0690\n",
      "Epoch 37/100\n",
      "\u001b[1m225/225\u001b[0m \u001b[32m━━━━━━━━━━━━━━━━━━━━\u001b[0m\u001b[37m\u001b[0m \u001b[1m9s\u001b[0m 39ms/step - accuracy: 0.5974 - loss: 1.0654 - val_accuracy: 0.6046 - val_loss: 1.0564\n",
      "Epoch 38/100\n",
      "\u001b[1m225/225\u001b[0m \u001b[32m━━━━━━━━━━━━━━━━━━━━\u001b[0m\u001b[37m\u001b[0m \u001b[1m9s\u001b[0m 39ms/step - accuracy: 0.6027 - loss: 1.0506 - val_accuracy: 0.5950 - val_loss: 1.0597\n",
      "Epoch 39/100\n",
      "\u001b[1m225/225\u001b[0m \u001b[32m━━━━━━━━━━━━━━━━━━━━\u001b[0m\u001b[37m\u001b[0m \u001b[1m9s\u001b[0m 39ms/step - accuracy: 0.6079 - loss: 1.0425 - val_accuracy: 0.6006 - val_loss: 1.0498\n",
      "Epoch 40/100\n",
      "\u001b[1m225/225\u001b[0m \u001b[32m━━━━━━━━━━━━━━━━━━━━\u001b[0m\u001b[37m\u001b[0m \u001b[1m9s\u001b[0m 39ms/step - accuracy: 0.6077 - loss: 1.0490 - val_accuracy: 0.5972 - val_loss: 1.0604\n",
      "Epoch 41/100\n",
      "\u001b[1m225/225\u001b[0m \u001b[32m━━━━━━━━━━━━━━━━━━━━\u001b[0m\u001b[37m\u001b[0m \u001b[1m9s\u001b[0m 39ms/step - accuracy: 0.6132 - loss: 1.0338 - val_accuracy: 0.5996 - val_loss: 1.0490\n",
      "Epoch 42/100\n",
      "\u001b[1m225/225\u001b[0m \u001b[32m━━━━━━━━━━━━━━━━━━━━\u001b[0m\u001b[37m\u001b[0m \u001b[1m10s\u001b[0m 39ms/step - accuracy: 0.6124 - loss: 1.0262 - val_accuracy: 0.6055 - val_loss: 1.0467\n",
      "Epoch 43/100\n",
      "\u001b[1m225/225\u001b[0m \u001b[32m━━━━━━━━━━━━━━━━━━━━\u001b[0m\u001b[37m\u001b[0m \u001b[1m9s\u001b[0m 39ms/step - accuracy: 0.6164 - loss: 1.0294 - val_accuracy: 0.6095 - val_loss: 1.0431\n",
      "Epoch 44/100\n",
      "\u001b[1m225/225\u001b[0m \u001b[32m━━━━━━━━━━━━━━━━━━━━\u001b[0m\u001b[37m\u001b[0m \u001b[1m9s\u001b[0m 39ms/step - accuracy: 0.6210 - loss: 1.0091 - val_accuracy: 0.6034 - val_loss: 1.0464\n",
      "Epoch 45/100\n",
      "\u001b[1m225/225\u001b[0m \u001b[32m━━━━━━━━━━━━━━━━━━━━\u001b[0m\u001b[37m\u001b[0m \u001b[1m9s\u001b[0m 39ms/step - accuracy: 0.6157 - loss: 1.0181 - val_accuracy: 0.6052 - val_loss: 1.0417\n",
      "Epoch 46/100\n",
      "\u001b[1m225/225\u001b[0m \u001b[32m━━━━━━━━━━━━━━━━━━━━\u001b[0m\u001b[37m\u001b[0m \u001b[1m9s\u001b[0m 39ms/step - accuracy: 0.6265 - loss: 0.9989 - val_accuracy: 0.6103 - val_loss: 1.0374\n",
      "Epoch 47/100\n",
      "\u001b[1m225/225\u001b[0m \u001b[32m━━━━━━━━━━━━━━━━━━━━\u001b[0m\u001b[37m\u001b[0m \u001b[1m9s\u001b[0m 39ms/step - accuracy: 0.6231 - loss: 1.0117 - val_accuracy: 0.6038 - val_loss: 1.0402\n",
      "Epoch 48/100\n",
      "\u001b[1m225/225\u001b[0m \u001b[32m━━━━━━━━━━━━━━━━━━━━\u001b[0m\u001b[37m\u001b[0m \u001b[1m9s\u001b[0m 39ms/step - accuracy: 0.6242 - loss: 0.9978 - val_accuracy: 0.6101 - val_loss: 1.0317\n",
      "Epoch 49/100\n",
      "\u001b[1m225/225\u001b[0m \u001b[32m━━━━━━━━━━━━━━━━━━━━\u001b[0m\u001b[37m\u001b[0m \u001b[1m9s\u001b[0m 39ms/step - accuracy: 0.6267 - loss: 0.9925 - val_accuracy: 0.6135 - val_loss: 1.0321\n",
      "Epoch 50/100\n",
      "\u001b[1m225/225\u001b[0m \u001b[32m━━━━━━━━━━━━━━━━━━━━\u001b[0m\u001b[37m\u001b[0m \u001b[1m9s\u001b[0m 39ms/step - accuracy: 0.6333 - loss: 0.9739 - val_accuracy: 0.6149 - val_loss: 1.0327\n",
      "Epoch 51/100\n",
      "\u001b[1m225/225\u001b[0m \u001b[32m━━━━━━━━━━━━━━━━━━━━\u001b[0m\u001b[37m\u001b[0m \u001b[1m9s\u001b[0m 39ms/step - accuracy: 0.6336 - loss: 0.9770 - val_accuracy: 0.6076 - val_loss: 1.0370\n",
      "Epoch 52/100\n",
      "\u001b[1m225/225\u001b[0m \u001b[32m━━━━━━━━━━━━━━━━━━━━\u001b[0m\u001b[37m\u001b[0m \u001b[1m9s\u001b[0m 39ms/step - accuracy: 0.6328 - loss: 0.9814 - val_accuracy: 0.6105 - val_loss: 1.0358\n",
      "Epoch 53/100\n",
      "\u001b[1m225/225\u001b[0m \u001b[32m━━━━━━━━━━━━━━━━━━━━\u001b[0m\u001b[37m\u001b[0m \u001b[1m9s\u001b[0m 39ms/step - accuracy: 0.6317 - loss: 0.9744 - val_accuracy: 0.6131 - val_loss: 1.0270\n",
      "Epoch 54/100\n",
      "\u001b[1m225/225\u001b[0m \u001b[32m━━━━━━━━━━━━━━━━━━━━\u001b[0m\u001b[37m\u001b[0m \u001b[1m9s\u001b[0m 39ms/step - accuracy: 0.6414 - loss: 0.9607 - val_accuracy: 0.6127 - val_loss: 1.0335\n",
      "Epoch 55/100\n",
      "\u001b[1m225/225\u001b[0m \u001b[32m━━━━━━━━━━━━━━━━━━━━\u001b[0m\u001b[37m\u001b[0m \u001b[1m9s\u001b[0m 39ms/step - accuracy: 0.6424 - loss: 0.9545 - val_accuracy: 0.6151 - val_loss: 1.0385\n",
      "Epoch 56/100\n",
      "\u001b[1m225/225\u001b[0m \u001b[32m━━━━━━━━━━━━━━━━━━━━\u001b[0m\u001b[37m\u001b[0m \u001b[1m9s\u001b[0m 39ms/step - accuracy: 0.6420 - loss: 0.9590 - val_accuracy: 0.6115 - val_loss: 1.0363\n",
      "Epoch 57/100\n",
      "\u001b[1m225/225\u001b[0m \u001b[32m━━━━━━━━━━━━━━━━━━━━\u001b[0m\u001b[37m\u001b[0m \u001b[1m9s\u001b[0m 39ms/step - accuracy: 0.6466 - loss: 0.9495 - val_accuracy: 0.6159 - val_loss: 1.0309\n",
      "Epoch 58/100\n",
      "\u001b[1m225/225\u001b[0m \u001b[32m━━━━━━━━━━━━━━━━━━━━\u001b[0m\u001b[37m\u001b[0m \u001b[1m9s\u001b[0m 39ms/step - accuracy: 0.6466 - loss: 0.9478 - val_accuracy: 0.6131 - val_loss: 1.0401\n",
      "Epoch 59/100\n",
      "\u001b[1m225/225\u001b[0m \u001b[32m━━━━━━━━━━━━━━━━━━━━\u001b[0m\u001b[37m\u001b[0m \u001b[1m9s\u001b[0m 39ms/step - accuracy: 0.6560 - loss: 0.9279 - val_accuracy: 0.6138 - val_loss: 1.0363\n",
      "Epoch 60/100\n",
      "\u001b[1m225/225\u001b[0m \u001b[32m━━━━━━━━━━━━━━━━━━━━\u001b[0m\u001b[37m\u001b[0m \u001b[1m9s\u001b[0m 39ms/step - accuracy: 0.6568 - loss: 0.9263 - val_accuracy: 0.6158 - val_loss: 1.0274\n",
      "Epoch 61/100\n",
      "\u001b[1m225/225\u001b[0m \u001b[32m━━━━━━━━━━━━━━━━━━━━\u001b[0m\u001b[37m\u001b[0m \u001b[1m9s\u001b[0m 39ms/step - accuracy: 0.6484 - loss: 0.9473 - val_accuracy: 0.6173 - val_loss: 1.0435\n",
      "Epoch 62/100\n",
      "\u001b[1m225/225\u001b[0m \u001b[32m━━━━━━━━━━━━━━━━━━━━\u001b[0m\u001b[37m\u001b[0m \u001b[1m9s\u001b[0m 39ms/step - accuracy: 0.6577 - loss: 0.9215 - val_accuracy: 0.6163 - val_loss: 1.0344\n",
      "Epoch 63/100\n",
      "\u001b[1m225/225\u001b[0m \u001b[32m━━━━━━━━━━━━━━━━━━━━\u001b[0m\u001b[37m\u001b[0m \u001b[1m9s\u001b[0m 39ms/step - accuracy: 0.6555 - loss: 0.9212 - val_accuracy: 0.6128 - val_loss: 1.0320\n",
      "Epoch 64/100\n",
      "\u001b[1m225/225\u001b[0m \u001b[32m━━━━━━━━━━━━━━━━━━━━\u001b[0m\u001b[37m\u001b[0m \u001b[1m9s\u001b[0m 39ms/step - accuracy: 0.6603 - loss: 0.9273 - val_accuracy: 0.6166 - val_loss: 1.0288\n",
      "Epoch 65/100\n",
      "\u001b[1m225/225\u001b[0m \u001b[32m━━━━━━━━━━━━━━━━━━━━\u001b[0m\u001b[37m\u001b[0m \u001b[1m9s\u001b[0m 39ms/step - accuracy: 0.6547 - loss: 0.9337 - val_accuracy: 0.6179 - val_loss: 1.0193\n",
      "Epoch 66/100\n",
      "\u001b[1m225/225\u001b[0m \u001b[32m━━━━━━━━━━━━━━━━━━━━\u001b[0m\u001b[37m\u001b[0m \u001b[1m9s\u001b[0m 39ms/step - accuracy: 0.6601 - loss: 0.9079 - val_accuracy: 0.6223 - val_loss: 1.0269\n",
      "Epoch 67/100\n",
      "\u001b[1m225/225\u001b[0m \u001b[32m━━━━━━━━━━━━━━━━━━━━\u001b[0m\u001b[37m\u001b[0m \u001b[1m10s\u001b[0m 39ms/step - accuracy: 0.6661 - loss: 0.9001 - val_accuracy: 0.6225 - val_loss: 1.0221\n",
      "Epoch 68/100\n",
      "\u001b[1m225/225\u001b[0m \u001b[32m━━━━━━━━━━━━━━━━━━━━\u001b[0m\u001b[37m\u001b[0m \u001b[1m9s\u001b[0m 39ms/step - accuracy: 0.6646 - loss: 0.9008 - val_accuracy: 0.6167 - val_loss: 1.0234\n",
      "Epoch 69/100\n",
      "\u001b[1m225/225\u001b[0m \u001b[32m━━━━━━━━━━━━━━━━━━━━\u001b[0m\u001b[37m\u001b[0m \u001b[1m9s\u001b[0m 39ms/step - accuracy: 0.6597 - loss: 0.9048 - val_accuracy: 0.6205 - val_loss: 1.0301\n",
      "Epoch 70/100\n",
      "\u001b[1m225/225\u001b[0m \u001b[32m━━━━━━━━━━━━━━━━━━━━\u001b[0m\u001b[37m\u001b[0m \u001b[1m9s\u001b[0m 39ms/step - accuracy: 0.6745 - loss: 0.8819 - val_accuracy: 0.6174 - val_loss: 1.0298\n",
      "Epoch 71/100\n",
      "\u001b[1m225/225\u001b[0m \u001b[32m━━━━━━━━━━━━━━━━━━━━\u001b[0m\u001b[37m\u001b[0m \u001b[1m9s\u001b[0m 39ms/step - accuracy: 0.6705 - loss: 0.8898 - val_accuracy: 0.6186 - val_loss: 1.0221\n",
      "Epoch 72/100\n",
      "\u001b[1m225/225\u001b[0m \u001b[32m━━━━━━━━━━━━━━━━━━━━\u001b[0m\u001b[37m\u001b[0m \u001b[1m9s\u001b[0m 39ms/step - accuracy: 0.6712 - loss: 0.8752 - val_accuracy: 0.6239 - val_loss: 1.0251\n",
      "Epoch 73/100\n",
      "\u001b[1m225/225\u001b[0m \u001b[32m━━━━━━━━━━━━━━━━━━━━\u001b[0m\u001b[37m\u001b[0m \u001b[1m9s\u001b[0m 39ms/step - accuracy: 0.6723 - loss: 0.8820 - val_accuracy: 0.6236 - val_loss: 1.0151\n",
      "Epoch 74/100\n",
      "\u001b[1m225/225\u001b[0m \u001b[32m━━━━━━━━━━━━━━━━━━━━\u001b[0m\u001b[37m\u001b[0m \u001b[1m9s\u001b[0m 39ms/step - accuracy: 0.6702 - loss: 0.8792 - val_accuracy: 0.6177 - val_loss: 1.0361\n",
      "Epoch 75/100\n",
      "\u001b[1m225/225\u001b[0m \u001b[32m━━━━━━━━━━━━━━━━━━━━\u001b[0m\u001b[37m\u001b[0m \u001b[1m9s\u001b[0m 39ms/step - accuracy: 0.6808 - loss: 0.8658 - val_accuracy: 0.6215 - val_loss: 1.0294\n",
      "Epoch 76/100\n",
      "\u001b[1m225/225\u001b[0m \u001b[32m━━━━━━━━━━━━━━━━━━━━\u001b[0m\u001b[37m\u001b[0m \u001b[1m9s\u001b[0m 39ms/step - accuracy: 0.6785 - loss: 0.8717 - val_accuracy: 0.6195 - val_loss: 1.0413\n",
      "Epoch 77/100\n",
      "\u001b[1m225/225\u001b[0m \u001b[32m━━━━━━━━━━━━━━━━━━━━\u001b[0m\u001b[37m\u001b[0m \u001b[1m9s\u001b[0m 39ms/step - accuracy: 0.6848 - loss: 0.8594 - val_accuracy: 0.6219 - val_loss: 1.0222\n",
      "Epoch 78/100\n",
      "\u001b[1m225/225\u001b[0m \u001b[32m━━━━━━━━━━━━━━━━━━━━\u001b[0m\u001b[37m\u001b[0m \u001b[1m9s\u001b[0m 39ms/step - accuracy: 0.6870 - loss: 0.8530 - val_accuracy: 0.6239 - val_loss: 1.0321\n",
      "Epoch 79/100\n",
      "\u001b[1m225/225\u001b[0m \u001b[32m━━━━━━━━━━━━━━━━━━━━\u001b[0m\u001b[37m\u001b[0m \u001b[1m9s\u001b[0m 39ms/step - accuracy: 0.6856 - loss: 0.8435 - val_accuracy: 0.6195 - val_loss: 1.0299\n",
      "Epoch 80/100\n",
      "\u001b[1m225/225\u001b[0m \u001b[32m━━━━━━━━━━━━━━━━━━━━\u001b[0m\u001b[37m\u001b[0m \u001b[1m9s\u001b[0m 39ms/step - accuracy: 0.6859 - loss: 0.8470 - val_accuracy: 0.6201 - val_loss: 1.0228\n",
      "Epoch 81/100\n",
      "\u001b[1m225/225\u001b[0m \u001b[32m━━━━━━━━━━━━━━━━━━━━\u001b[0m\u001b[37m\u001b[0m \u001b[1m9s\u001b[0m 39ms/step - accuracy: 0.6830 - loss: 0.8516 - val_accuracy: 0.6213 - val_loss: 1.0307\n",
      "Epoch 82/100\n",
      "\u001b[1m225/225\u001b[0m \u001b[32m━━━━━━━━━━━━━━━━━━━━\u001b[0m\u001b[37m\u001b[0m \u001b[1m9s\u001b[0m 39ms/step - accuracy: 0.6861 - loss: 0.8530 - val_accuracy: 0.6209 - val_loss: 1.0310\n",
      "Epoch 83/100\n",
      "\u001b[1m225/225\u001b[0m \u001b[32m━━━━━━━━━━━━━━━━━━━━\u001b[0m\u001b[37m\u001b[0m \u001b[1m9s\u001b[0m 39ms/step - accuracy: 0.6832 - loss: 0.8495 - val_accuracy: 0.6269 - val_loss: 1.0255\n",
      "Epoch 84/100\n",
      "\u001b[1m225/225\u001b[0m \u001b[32m━━━━━━━━━━━━━━━━━━━━\u001b[0m\u001b[37m\u001b[0m \u001b[1m9s\u001b[0m 39ms/step - accuracy: 0.6892 - loss: 0.8429 - val_accuracy: 0.6293 - val_loss: 1.0217\n",
      "Epoch 85/100\n",
      "\u001b[1m225/225\u001b[0m \u001b[32m━━━━━━━━━━━━━━━━━━━━\u001b[0m\u001b[37m\u001b[0m \u001b[1m9s\u001b[0m 39ms/step - accuracy: 0.6909 - loss: 0.8423 - val_accuracy: 0.6259 - val_loss: 1.0319\n",
      "Epoch 86/100\n",
      "\u001b[1m225/225\u001b[0m \u001b[32m━━━━━━━━━━━━━━━━━━━━\u001b[0m\u001b[37m\u001b[0m \u001b[1m9s\u001b[0m 39ms/step - accuracy: 0.6834 - loss: 0.8442 - val_accuracy: 0.6213 - val_loss: 1.0344\n",
      "Epoch 87/100\n",
      "\u001b[1m225/225\u001b[0m \u001b[32m━━━━━━━━━━━━━━━━━━━━\u001b[0m\u001b[37m\u001b[0m \u001b[1m9s\u001b[0m 39ms/step - accuracy: 0.6967 - loss: 0.8218 - val_accuracy: 0.6321 - val_loss: 1.0142\n",
      "Epoch 88/100\n",
      "\u001b[1m225/225\u001b[0m \u001b[32m━━━━━━━━━━━━━━━━━━━━\u001b[0m\u001b[37m\u001b[0m \u001b[1m9s\u001b[0m 39ms/step - accuracy: 0.6953 - loss: 0.8127 - val_accuracy: 0.6297 - val_loss: 1.0184\n",
      "Epoch 89/100\n",
      "\u001b[1m225/225\u001b[0m \u001b[32m━━━━━━━━━━━━━━━━━━━━\u001b[0m\u001b[37m\u001b[0m \u001b[1m9s\u001b[0m 39ms/step - accuracy: 0.6923 - loss: 0.8330 - val_accuracy: 0.6291 - val_loss: 1.0140\n",
      "Epoch 90/100\n",
      "\u001b[1m225/225\u001b[0m \u001b[32m━━━━━━━━━━━━━━━━━━━━\u001b[0m\u001b[37m\u001b[0m \u001b[1m9s\u001b[0m 39ms/step - accuracy: 0.7013 - loss: 0.8058 - val_accuracy: 0.6286 - val_loss: 1.0176\n",
      "Epoch 91/100\n",
      "\u001b[1m225/225\u001b[0m \u001b[32m━━━━━━━━━━━━━━━━━━━━\u001b[0m\u001b[37m\u001b[0m \u001b[1m9s\u001b[0m 39ms/step - accuracy: 0.7061 - loss: 0.8010 - val_accuracy: 0.6312 - val_loss: 1.0159\n",
      "Epoch 92/100\n",
      "\u001b[1m225/225\u001b[0m \u001b[32m━━━━━━━━━━━━━━━━━━━━\u001b[0m\u001b[37m\u001b[0m \u001b[1m9s\u001b[0m 39ms/step - accuracy: 0.7020 - loss: 0.8092 - val_accuracy: 0.6333 - val_loss: 1.0179\n",
      "Epoch 93/100\n",
      "\u001b[1m225/225\u001b[0m \u001b[32m━━━━━━━━━━━━━━━━━━━━\u001b[0m\u001b[37m\u001b[0m \u001b[1m9s\u001b[0m 39ms/step - accuracy: 0.7082 - loss: 0.7990 - val_accuracy: 0.6240 - val_loss: 1.0282\n",
      "Epoch 94/100\n",
      "\u001b[1m225/225\u001b[0m \u001b[32m━━━━━━━━━━━━━━━━━━━━\u001b[0m\u001b[37m\u001b[0m \u001b[1m9s\u001b[0m 39ms/step - accuracy: 0.7050 - loss: 0.8024 - val_accuracy: 0.6284 - val_loss: 1.0346\n",
      "Epoch 95/100\n",
      "\u001b[1m225/225\u001b[0m \u001b[32m━━━━━━━━━━━━━━━━━━━━\u001b[0m\u001b[37m\u001b[0m \u001b[1m9s\u001b[0m 39ms/step - accuracy: 0.7044 - loss: 0.8020 - val_accuracy: 0.6280 - val_loss: 1.0237\n",
      "Epoch 96/100\n",
      "\u001b[1m225/225\u001b[0m \u001b[32m━━━━━━━━━━━━━━━━━━━━\u001b[0m\u001b[37m\u001b[0m \u001b[1m9s\u001b[0m 39ms/step - accuracy: 0.7118 - loss: 0.7917 - val_accuracy: 0.6308 - val_loss: 1.0168\n",
      "Epoch 97/100\n",
      "\u001b[1m225/225\u001b[0m \u001b[32m━━━━━━━━━━━━━━━━━━━━\u001b[0m\u001b[37m\u001b[0m \u001b[1m9s\u001b[0m 39ms/step - accuracy: 0.7096 - loss: 0.7973 - val_accuracy: 0.6297 - val_loss: 1.0108\n",
      "Epoch 98/100\n",
      "\u001b[1m225/225\u001b[0m \u001b[32m━━━━━━━━━━━━━━━━━━━━\u001b[0m\u001b[37m\u001b[0m \u001b[1m9s\u001b[0m 39ms/step - accuracy: 0.7155 - loss: 0.7891 - val_accuracy: 0.6315 - val_loss: 1.0310\n",
      "Epoch 99/100\n",
      "\u001b[1m225/225\u001b[0m \u001b[32m━━━━━━━━━━━━━━━━━━━━\u001b[0m\u001b[37m\u001b[0m \u001b[1m9s\u001b[0m 39ms/step - accuracy: 0.7160 - loss: 0.7734 - val_accuracy: 0.6257 - val_loss: 1.0302\n",
      "Epoch 100/100\n",
      "\u001b[1m225/225\u001b[0m \u001b[32m━━━━━━━━━━━━━━━━━━━━\u001b[0m\u001b[37m\u001b[0m \u001b[1m9s\u001b[0m 39ms/step - accuracy: 0.7155 - loss: 0.7769 - val_accuracy: 0.6293 - val_loss: 1.0182\n"
     ]
    }
   ],
   "source": [
    "#train the model\n",
    "history =model.fit(x=x_train, y=y_train, batch_size=128, epochs=100, validation_data=(x_test, y_test))"
   ]
  },
  {
   "cell_type": "code",
   "execution_count": 18,
   "id": "86492496",
   "metadata": {
    "execution": {
     "iopub.execute_input": "2024-08-16T22:01:12.290771Z",
     "iopub.status.busy": "2024-08-16T22:01:12.289808Z",
     "iopub.status.idle": "2024-08-16T22:01:12.551266Z",
     "shell.execute_reply": "2024-08-16T22:01:12.550379Z"
    },
    "papermill": {
     "duration": 1.259198,
     "end_time": "2024-08-16T22:01:12.553277",
     "exception": false,
     "start_time": "2024-08-16T22:01:11.294079",
     "status": "completed"
    },
    "tags": []
   },
   "outputs": [
    {
     "data": {
      "image/png": "[encoded data removed]",
      "text/plain": [
       "<Figure size 640x480 with 1 Axes>"
      ]
     },
     "metadata": {},
     "output_type": "display_data"
    }
   ],
   "source": [
    "acc = history.history['accuracy']\n",
    "val_acc = history.history['val_accuracy']\n",
    "epochs = range(len(acc))\n",
    "\n",
    "plt.plot(epochs, acc, 'b', label='Training Accuracy')\n",
    "plt.plot(epochs, val_acc, 'r', label='Validation Accuracy')\n",
    "plt.title('Accuracy Graph')\n",
    "plt.legend()\n",
    "\n",
    "loss = history.history['loss']\n",
    "val_loss = history.history['val_loss']\n",
    "epochs = range(len(acc))\n",
    "\n",
    "plt.plot(epochs, acc, 'b', label='Training Loss')\n",
    "plt.plot(epochs, val_loss, 'r', label='Validation Loss')\n",
    "plt.title('Loss Graph')\n",
    "plt.legend()\n",
    "\n",
    "plt.show()"
   ]
  },
  {
   "cell_type": "code",
   "execution_count": null,
   "id": "b1c72600",
   "metadata": {
    "papermill": {
     "duration": 0.988107,
     "end_time": "2024-08-16T22:01:14.486518",
     "exception": false,
     "start_time": "2024-08-16T22:01:13.498411",
     "status": "completed"
    },
    "tags": []
   },
   "outputs": [],
   "source": []
  },
  {
   "cell_type": "code",
   "execution_count": null,
   "id": "60d75698",
   "metadata": {
    "papermill": {
     "duration": 1.092273,
     "end_time": "2024-08-16T22:01:16.526204",
     "exception": false,
     "start_time": "2024-08-16T22:01:15.433931",
     "status": "completed"
    },
    "tags": []
   },
   "outputs": [],
   "source": []
  },
  {
   "cell_type": "code",
   "execution_count": null,
   "id": "068839c2",
   "metadata": {
    "papermill": {
     "duration": 1.018441,
     "end_time": "2024-08-16T22:01:18.541462",
     "exception": false,
     "start_time": "2024-08-16T22:01:17.523021",
     "status": "completed"
    },
    "tags": []
   },
   "outputs": [],
   "source": []
  }
 ],
 "metadata": {
  "kaggle": {
   "accelerator": "nvidiaTeslaT4",
   "dataSources": [
    {
     "datasetId": 1060020,
     "sourceId": 1782963,
     "sourceType": "datasetVersion"
    }
   ],
   "dockerImageVersionId": 30747,
   "isGpuEnabled": true,
   "isInternetEnabled": false,
   "language": "python",
   "sourceType": "notebook"
  },
  "kernelspec": {
   "display_name": "Python 3",
   "language": "python",
   "name": "python3"
  },
  "language_info": {
   "codemirror_mode": {
    "name": "ipython",
    "version": 3
   },
   "file_extension": ".py",
   "mimetype": "text/x-python",
   "name": "python",
   "nbconvert_exporter": "python",
   "pygments_lexer": "ipython3",
   "version": "3.10.13"
  },
  "papermill": {
   "default_parameters": {},
   "duration": 1063.843732,
   "end_time": "2024-08-16T22:01:22.492574",
   "environment_variables": {},
   "exception": null,
   "input_path": "__notebook__.ipynb",
   "output_path": "__notebook__.ipynb",
   "parameters": {},
   "start_time": "2024-08-16T21:43:38.648842",
   "version": "2.5.0"
  },
  "widgets": {
   "application/vnd.jupyter.widget-state+json": {
    "state": {
     "0a62691b60dc4f8b987d6ac600114a30": {
      "model_module": "@jupyter-widgets/base",
      "model_module_version": "1.2.0",
      "model_name": "LayoutModel",
      "state": {
       "_model_module": "@jupyter-widgets/base",
       "_model_module_version": "1.2.0",
       "_model_name": "LayoutModel",
       "_view_count": null,
       "_view_module": "@jupyter-widgets/base",
       "_view_module_version": "1.2.0",
       "_view_name": "LayoutView",
       "align_content": null,
       "align_items": null,
       "align_self": null,
       "border": null,
       "bottom": null,
       "display": null,
       "flex": null,
       "flex_flow": null,
       "grid_area": null,
       "grid_auto_columns": null,
       "grid_auto_flow": null,
       "grid_auto_rows": null,
       "grid_column": null,
       "grid_gap": null,
       "grid_row": null,
       "grid_template_areas": null,
       "grid_template_columns": null,
       "grid_template_rows": null,
       "height": null,
       "justify_content": null,
       "justify_items": null,
       "left": null,
       "margin": null,
       "max_height": null,
       "max_width": null,
       "min_height": null,
       "min_width": null,
       "object_fit": null,
       "object_position": null,
       "order": null,
       "overflow": null,
       "overflow_x": null,
       "overflow_y": null,
       "padding": null,
       "right": null,
       "top": null,
       "visibility": null,
       "width": null
      }
     },
     "0d5e51d563da4e68b9bf06ed09adf42d": {
      "model_module": "@jupyter-widgets/base",
      "model_module_version": "1.2.0",
      "model_name": "LayoutModel",
      "state": {
       "_model_module": "@jupyter-widgets/base",
       "_model_module_version": "1.2.0",
       "_model_name": "LayoutModel",
       "_view_count": null,
       "_view_module": "@jupyter-widgets/base",
       "_view_module_version": "1.2.0",
       "_view_name": "LayoutView",
       "align_content": null,
       "align_items": null,
       "align_self": null,
       "border": null,
       "bottom": null,
       "display": null,
       "flex": null,
       "flex_flow": null,
       "grid_area": null,
       "grid_auto_columns": null,
       "grid_auto_flow": null,
       "grid_auto_rows": null,
       "grid_column": null,
       "grid_gap": null,
       "grid_row": null,
       "grid_template_areas": null,
       "grid_template_columns": null,
       "grid_template_rows": null,
       "height": null,
       "justify_content": null,
       "justify_items": null,
       "left": null,
       "margin": null,
       "max_height": null,
       "max_width": null,
       "min_height": null,
       "min_width": null,
       "object_fit": null,
       "object_position": null,
       "order": null,
       "overflow": null,
       "overflow_x": null,
       "overflow_y": null,
       "padding": null,
       "right": null,
       "top": null,
       "visibility": null,
       "width": null
      }
     },
     "1000dc28bca04d108a33d2171bbbb6c5": {
      "model_module": "@jupyter-widgets/controls",
      "model_module_version": "1.5.0",
      "model_name": "ProgressStyleModel",
      "state": {
       "_model_module": "@jupyter-widgets/controls",
       "_model_module_version": "1.5.0",
       "_model_name": "ProgressStyleModel",
       "_view_count": null,
       "_view_module": "@jupyter-widgets/base",
       "_view_module_version": "1.2.0",
       "_view_name": "StyleView",
       "bar_color": null,
       "description_width": ""
      }
     },
     "114180183c25415587de26ff4657b649": {
      "model_module": "@jupyter-widgets/controls",
      "model_module_version": "1.5.0",
      "model_name": "HTMLModel",
      "state": {
       "_dom_classes": [],
       "_model_module": "@jupyter-widgets/controls",
       "_model_module_version": "1.5.0",
       "_model_name": "HTMLModel",
       "_view_count": null,
       "_view_module": "@jupyter-widgets/controls",
       "_view_module_version": "1.5.0",
       "_view_name": "HTMLView",
       "description": "",
       "description_tooltip": null,
       "layout": "IPY_MODEL_67aed9c64f6a49289e8297608b3113af",
       "placeholder": "​",
       "style": "IPY_MODEL_dea46940de0246a089100d82c037c582",
       "value": " 28709/28709 [01:32&lt;00:00, 265.24it/s]"
      }
     },
     "224e42d759814d3ba4e2e7e55c2d2c04": {
      "model_module": "@jupyter-widgets/controls",
      "model_module_version": "1.5.0",
      "model_name": "HTMLModel",
      "state": {
       "_dom_classes": [],
       "_model_module": "@jupyter-widgets/controls",
       "_model_module_version": "1.5.0",
       "_model_name": "HTMLModel",
       "_view_count": null,
       "_view_module": "@jupyter-widgets/controls",
       "_view_module_version": "1.5.0",
       "_view_name": "HTMLView",
       "description": "",
       "description_tooltip": null,
       "layout": "IPY_MODEL_0d5e51d563da4e68b9bf06ed09adf42d",
       "placeholder": "​",
       "style": "IPY_MODEL_41bdf7d15fb4457f95aff26ad4b6b7a9",
       "value": "100%"
      }
     },
     "41bdf7d15fb4457f95aff26ad4b6b7a9": {
      "model_module": "@jupyter-widgets/controls",
      "model_module_version": "1.5.0",
      "model_name": "DescriptionStyleModel",
      "state": {
       "_model_module": "@jupyter-widgets/controls",
       "_model_module_version": "1.5.0",
       "_model_name": "DescriptionStyleModel",
       "_view_count": null,
       "_view_module": "@jupyter-widgets/base",
       "_view_module_version": "1.2.0",
       "_view_name": "StyleView",
       "description_width": ""
      }
     },
     "4b7ed90fe92f403b97246ba60c96c871": {
      "model_module": "@jupyter-widgets/controls",
      "model_module_version": "1.5.0",
      "model_name": "FloatProgressModel",
      "state": {
       "_dom_classes": [],
       "_model_module": "@jupyter-widgets/controls",
       "_model_module_version": "1.5.0",
       "_model_name": "FloatProgressModel",
       "_view_count": null,
       "_view_module": "@jupyter-widgets/controls",
       "_view_module_version": "1.5.0",
       "_view_name": "ProgressView",
       "bar_style": "success",
       "description": "",
       "description_tooltip": null,
       "layout": "IPY_MODEL_8a0b5c1dc089427d8feaf1cf2f9a7189",
       "max": 7178.0,
       "min": 0.0,
       "orientation": "horizontal",
       "style": "IPY_MODEL_1000dc28bca04d108a33d2171bbbb6c5",
       "value": 7178.0
      }
     },
     "4e65435b049147bbb3c9488329f42405": {
      "model_module": "@jupyter-widgets/base",
      "model_module_version": "1.2.0",
      "model_name": "LayoutModel",
      "state": {
       "_model_module": "@jupyter-widgets/base",
       "_model_module_version": "1.2.0",
       "_model_name": "LayoutModel",
       "_view_count": null,
       "_view_module": "@jupyter-widgets/base",
       "_view_module_version": "1.2.0",
       "_view_name": "LayoutView",
       "align_content": null,
       "align_items": null,
       "align_self": null,
       "border": null,
       "bottom": null,
       "display": null,
       "flex": null,
       "flex_flow": null,
       "grid_area": null,
       "grid_auto_columns": null,
       "grid_auto_flow": null,
       "grid_auto_rows": null,
       "grid_column": null,
       "grid_gap": null,
       "grid_row": null,
       "grid_template_areas": null,
       "grid_template_columns": null,
       "grid_template_rows": null,
       "height": null,
       "justify_content": null,
       "justify_items": null,
       "left": null,
       "margin": null,
       "max_height": null,
       "max_width": null,
       "min_height": null,
       "min_width": null,
       "object_fit": null,
       "object_position": null,
       "order": null,
       "overflow": null,
       "overflow_x": null,
       "overflow_y": null,
       "padding": null,
       "right": null,
       "top": null,
       "visibility": null,
       "width": null
      }
     },
     "5472055f98cf4a16aaf8f189fa775eca": {
      "model_module": "@jupyter-widgets/base",
      "model_module_version": "1.2.0",
      "model_name": "LayoutModel",
      "state": {
       "_model_module": "@jupyter-widgets/base",
       "_model_module_version": "1.2.0",
       "_model_name": "LayoutModel",
       "_view_count": null,
       "_view_module": "@jupyter-widgets/base",
       "_view_module_version": "1.2.0",
       "_view_name": "LayoutView",
       "align_content": null,
       "align_items": null,
       "align_self": null,
       "border": null,
       "bottom": null,
       "display": null,
       "flex": null,
       "flex_flow": null,
       "grid_area": null,
       "grid_auto_columns": null,
       "grid_auto_flow": null,
       "grid_auto_rows": null,
       "grid_column": null,
       "grid_gap": null,
       "grid_row": null,
       "grid_template_areas": null,
       "grid_template_columns": null,
       "grid_template_rows": null,
       "height": null,
       "justify_content": null,
       "justify_items": null,
       "left": null,
       "margin": null,
       "max_height": null,
       "max_width": null,
       "min_height": null,
       "min_width": null,
       "object_fit": null,
       "object_position": null,
       "order": null,
       "overflow": null,
       "overflow_x": null,
       "overflow_y": null,
       "padding": null,
       "right": null,
       "top": null,
       "visibility": null,
       "width": null
      }
     },
     "5fa060ef7a8a431f92dccb60e9ebb94b": {
      "model_module": "@jupyter-widgets/base",
      "model_module_version": "1.2.0",
      "model_name": "LayoutModel",
      "state": {
       "_model_module": "@jupyter-widgets/base",
       "_model_module_version": "1.2.0",
       "_model_name": "LayoutModel",
       "_view_count": null,
       "_view_module": "@jupyter-widgets/base",
       "_view_module_version": "1.2.0",
       "_view_name": "LayoutView",
       "align_content": null,
       "align_items": null,
       "align_self": null,
       "border": null,
       "bottom": null,
       "display": null,
       "flex": null,
       "flex_flow": null,
       "grid_area": null,
       "grid_auto_columns": null,
       "grid_auto_flow": null,
       "grid_auto_rows": null,
       "grid_column": null,
       "grid_gap": null,
       "grid_row": null,
       "grid_template_areas": null,
       "grid_template_columns": null,
       "grid_template_rows": null,
       "height": null,
       "justify_content": null,
       "justify_items": null,
       "left": null,
       "margin": null,
       "max_height": null,
       "max_width": null,
       "min_height": null,
       "min_width": null,
       "object_fit": null,
       "object_position": null,
       "order": null,
       "overflow": null,
       "overflow_x": null,
       "overflow_y": null,
       "padding": null,
       "right": null,
       "top": null,
       "visibility": null,
       "width": null
      }
     },
     "67aed9c64f6a49289e8297608b3113af": {
      "model_module": "@jupyter-widgets/base",
      "model_module_version": "1.2.0",
      "model_name": "LayoutModel",
      "state": {
       "_model_module": "@jupyter-widgets/base",
       "_model_module_version": "1.2.0",
       "_model_name": "LayoutModel",
       "_view_count": null,
       "_view_module": "@jupyter-widgets/base",
       "_view_module_version": "1.2.0",
       "_view_name": "LayoutView",
       "align_content": null,
       "align_items": null,
       "align_self": null,
       "border": null,
       "bottom": null,
       "display": null,
       "flex": null,
       "flex_flow": null,
       "grid_area": null,
       "grid_auto_columns": null,
       "grid_auto_flow": null,
       "grid_auto_rows": null,
       "grid_column": null,
       "grid_gap": null,
       "grid_row": null,
       "grid_template_areas": null,
       "grid_template_columns": null,
       "grid_template_rows": null,
       "height": null,
       "justify_content": null,
       "justify_items": null,
       "left": null,
       "margin": null,
       "max_height": null,
       "max_width": null,
       "min_height": null,
       "min_width": null,
       "object_fit": null,
       "object_position": null,
       "order": null,
       "overflow": null,
       "overflow_x": null,
       "overflow_y": null,
       "padding": null,
       "right": null,
       "top": null,
       "visibility": null,
       "width": null
      }
     },
     "786214f65d354858b9a0380372bb0a71": {
      "model_module": "@jupyter-widgets/base",
      "model_module_version": "1.2.0",
      "model_name": "LayoutModel",
      "state": {
       "_model_module": "@jupyter-widgets/base",
       "_model_module_version": "1.2.0",
       "_model_name": "LayoutModel",
       "_view_count": null,
       "_view_module": "@jupyter-widgets/base",
       "_view_module_version": "1.2.0",
       "_view_name": "LayoutView",
       "align_content": null,
       "align_items": null,
       "align_self": null,
       "border": null,
       "bottom": null,
       "display": null,
       "flex": null,
       "flex_flow": null,
       "grid_area": null,
       "grid_auto_columns": null,
       "grid_auto_flow": null,
       "grid_auto_rows": null,
       "grid_column": null,
       "grid_gap": null,
       "grid_row": null,
       "grid_template_areas": null,
       "grid_template_columns": null,
       "grid_template_rows": null,
       "height": null,
       "justify_content": null,
       "justify_items": null,
       "left": null,
       "margin": null,
       "max_height": null,
       "max_width": null,
       "min_height": null,
       "min_width": null,
       "object_fit": null,
       "object_position": null,
       "order": null,
       "overflow": null,
       "overflow_x": null,
       "overflow_y": null,
       "padding": null,
       "right": null,
       "top": null,
       "visibility": null,
       "width": null
      }
     },
     "86b0039794e44427857533da5c47fe96": {
      "model_module": "@jupyter-widgets/controls",
      "model_module_version": "1.5.0",
      "model_name": "ProgressStyleModel",
      "state": {
       "_model_module": "@jupyter-widgets/controls",
       "_model_module_version": "1.5.0",
       "_model_name": "ProgressStyleModel",
       "_view_count": null,
       "_view_module": "@jupyter-widgets/base",
       "_view_module_version": "1.2.0",
       "_view_name": "StyleView",
       "bar_color": null,
       "description_width": ""
      }
     },
     "8a0b5c1dc089427d8feaf1cf2f9a7189": {
      "model_module": "@jupyter-widgets/base",
      "model_module_version": "1.2.0",
      "model_name": "LayoutModel",
      "state": {
       "_model_module": "@jupyter-widgets/base",
       "_model_module_version": "1.2.0",
       "_model_name": "LayoutModel",
       "_view_count": null,
       "_view_module": "@jupyter-widgets/base",
       "_view_module_version": "1.2.0",
       "_view_name": "LayoutView",
       "align_content": null,
       "align_items": null,
       "align_self": null,
       "border": null,
       "bottom": null,
       "display": null,
       "flex": null,
       "flex_flow": null,
       "grid_area": null,
       "grid_auto_columns": null,
       "grid_auto_flow": null,
       "grid_auto_rows": null,
       "grid_column": null,
       "grid_gap": null,
       "grid_row": null,
       "grid_template_areas": null,
       "grid_template_columns": null,
       "grid_template_rows": null,
       "height": null,
       "justify_content": null,
       "justify_items": null,
       "left": null,
       "margin": null,
       "max_height": null,
       "max_width": null,
       "min_height": null,
       "min_width": null,
       "object_fit": null,
       "object_position": null,
       "order": null,
       "overflow": null,
       "overflow_x": null,
       "overflow_y": null,
       "padding": null,
       "right": null,
       "top": null,
       "visibility": null,
       "width": null
      }
     },
     "8f31c1717c0d4f019594c1e56088461e": {
      "model_module": "@jupyter-widgets/controls",
      "model_module_version": "1.5.0",
      "model_name": "DescriptionStyleModel",
      "state": {
       "_model_module": "@jupyter-widgets/controls",
       "_model_module_version": "1.5.0",
       "_model_name": "DescriptionStyleModel",
       "_view_count": null,
       "_view_module": "@jupyter-widgets/base",
       "_view_module_version": "1.2.0",
       "_view_name": "StyleView",
       "description_width": ""
      }
     },
     "b3fe1cd6a271482aac0af3c8d42ff32d": {
      "model_module": "@jupyter-widgets/controls",
      "model_module_version": "1.5.0",
      "model_name": "FloatProgressModel",
      "state": {
       "_dom_classes": [],
       "_model_module": "@jupyter-widgets/controls",
       "_model_module_version": "1.5.0",
       "_model_name": "FloatProgressModel",
       "_view_count": null,
       "_view_module": "@jupyter-widgets/controls",
       "_view_module_version": "1.5.0",
       "_view_name": "ProgressView",
       "bar_style": "success",
       "description": "",
       "description_tooltip": null,
       "layout": "IPY_MODEL_786214f65d354858b9a0380372bb0a71",
       "max": 28709.0,
       "min": 0.0,
       "orientation": "horizontal",
       "style": "IPY_MODEL_86b0039794e44427857533da5c47fe96",
       "value": 28709.0
      }
     },
     "bfc3c20b1c734e27947913f47d19856c": {
      "model_module": "@jupyter-widgets/controls",
      "model_module_version": "1.5.0",
      "model_name": "HTMLModel",
      "state": {
       "_dom_classes": [],
       "_model_module": "@jupyter-widgets/controls",
       "_model_module_version": "1.5.0",
       "_model_name": "HTMLModel",
       "_view_count": null,
       "_view_module": "@jupyter-widgets/controls",
       "_view_module_version": "1.5.0",
       "_view_name": "HTMLView",
       "description": "",
       "description_tooltip": null,
       "layout": "IPY_MODEL_5472055f98cf4a16aaf8f189fa775eca",
       "placeholder": "​",
       "style": "IPY_MODEL_8f31c1717c0d4f019594c1e56088461e",
       "value": "100%"
      }
     },
     "dea46940de0246a089100d82c037c582": {
      "model_module": "@jupyter-widgets/controls",
      "model_module_version": "1.5.0",
      "model_name": "DescriptionStyleModel",
      "state": {
       "_model_module": "@jupyter-widgets/controls",
       "_model_module_version": "1.5.0",
       "_model_name": "DescriptionStyleModel",
       "_view_count": null,
       "_view_module": "@jupyter-widgets/base",
       "_view_module_version": "1.2.0",
       "_view_name": "StyleView",
       "description_width": ""
      }
     },
     "ee08676d239e4f1fa40dd73070f5fb8c": {
      "model_module": "@jupyter-widgets/controls",
      "model_module_version": "1.5.0",
      "model_name": "HTMLModel",
      "state": {
       "_dom_classes": [],
       "_model_module": "@jupyter-widgets/controls",
       "_model_module_version": "1.5.0",
       "_model_name": "HTMLModel",
       "_view_count": null,
       "_view_module": "@jupyter-widgets/controls",
       "_view_module_version": "1.5.0",
       "_view_name": "HTMLView",
       "description": "",
       "description_tooltip": null,
       "layout": "IPY_MODEL_0a62691b60dc4f8b987d6ac600114a30",
       "placeholder": "​",
       "style": "IPY_MODEL_fa87b89b665347c08bf6ad6283ee6f6f",
       "value": " 7178/7178 [00:19&lt;00:00, 314.81it/s]"
      }
     },
     "fa87b89b665347c08bf6ad6283ee6f6f": {
      "model_module": "@jupyter-widgets/controls",
      "model_module_version": "1.5.0",
      "model_name": "DescriptionStyleModel",
      "state": {
       "_model_module": "@jupyter-widgets/controls",
       "_model_module_version": "1.5.0",
       "_model_name": "DescriptionStyleModel",
       "_view_count": null,
       "_view_module": "@jupyter-widgets/base",
       "_view_module_version": "1.2.0",
       "_view_name": "StyleView",
       "description_width": ""
      }
     },
     "fce9f2f61eb2437ca798549944678f7e": {
      "model_module": "@jupyter-widgets/controls",
      "model_module_version": "1.5.0",
      "model_name": "HBoxModel",
      "state": {
       "_dom_classes": [],
       "_model_module": "@jupyter-widgets/controls",
       "_model_module_version": "1.5.0",
       "_model_name": "HBoxModel",
       "_view_count": null,
       "_view_module": "@jupyter-widgets/controls",
       "_view_module_version": "1.5.0",
       "_view_name": "HBoxView",
       "box_style": "",
       "children": [
        "IPY_MODEL_224e42d759814d3ba4e2e7e55c2d2c04",
        "IPY_MODEL_4b7ed90fe92f403b97246ba60c96c871",
        "IPY_MODEL_ee08676d239e4f1fa40dd73070f5fb8c"
       ],
       "layout": "IPY_MODEL_5fa060ef7a8a431f92dccb60e9ebb94b"
      }
     },
     "ff152957c27b4346bb889fe275956c5f": {
      "model_module": "@jupyter-widgets/controls",
      "model_module_version": "1.5.0",
      "model_name": "HBoxModel",
      "state": {
       "_dom_classes": [],
       "_model_module": "@jupyter-widgets/controls",
       "_model_module_version": "1.5.0",
       "_model_name": "HBoxModel",
       "_view_count": null,
       "_view_module": "@jupyter-widgets/controls",
       "_view_module_version": "1.5.0",
       "_view_name": "HBoxView",
       "box_style": "",
       "children": [
        "IPY_MODEL_bfc3c20b1c734e27947913f47d19856c",
        "IPY_MODEL_b3fe1cd6a271482aac0af3c8d42ff32d",
        "IPY_MODEL_114180183c25415587de26ff4657b649"
       ],
       "layout": "IPY_MODEL_4e65435b049147bbb3c9488329f42405"
      }
     }
    },
    "version_major": 2,
    "version_minor": 0
   }
  }
 },
 "nbformat": 4,
 "nbformat_minor": 5
}
